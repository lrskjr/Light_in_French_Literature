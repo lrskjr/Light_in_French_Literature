{
 "cells": [
  {
   "cell_type": "markdown",
   "id": "36832a20",
   "metadata": {},
   "source": [
    "# The Light in French Literature 2 - keyword analysis\n",
    "## - The use of lighting technologies and emotional words in the same sentence\n",
    "\n",
    "Which authors make the most and least use of emotional words when writting about lighting technologies?\n",
    "\n",
    "And the same in years\n",
    "\n",
    "\n"
   ]
  },
  {
   "cell_type": "code",
   "execution_count": 12,
   "id": "2e911468",
   "metadata": {},
   "outputs": [],
   "source": [
    "import re\n",
    "import os\n",
    "import pandas as pd\n",
    "from pathlib import Path"
   ]
  },
  {
   "cell_type": "markdown",
   "id": "273d73f3",
   "metadata": {},
   "source": [
    "# Prepare data\n",
    "- Data is stored in a dataframe\n",
    "- in a function we detect presens of keywords in paragraphs. To do this we split the text into paragraphs and check then one by for a keyword. If a keyword is detected in a paragraph we do not continue to search for other keywords in the same paragraph. We just register, that a keyword is found in a paragraph and moves on to the next paragraph."
   ]
  },
  {
   "cell_type": "code",
   "execution_count": 13,
   "id": "e9b1eb2f-e52e-4a64-819f-72e9c4e713d0",
   "metadata": {},
   "outputs": [],
   "source": [
    "home_dir = Path.cwd()\n",
    "\n",
    "input_dir = Path.cwd() / '../data/txt_files' # path of files to be found\n",
    "\n",
    "txt_files = os.listdir(input_dir)"
   ]
  },
  {
   "cell_type": "code",
   "execution_count": 14,
   "id": "f6e18e9f-7620-4e23-9924-29cf3be986ea",
   "metadata": {},
   "outputs": [],
   "source": [
    "years = []\n",
    "authors = []\n",
    "titles = []\n",
    "for i in txt_files:\n",
    "    if i.endswith('.txt'):\n",
    "        text_split = i.split()\n",
    "        year = text_split[0].strip()\n",
    "        author = text_split[1].strip()\n",
    "        title = ' '.join(text_split[2:]).replace('.txt', '').strip()\n",
    "        years.append(year)\n",
    "        authors.append(author)\n",
    "        titles.append(title)\n",
    "\n",
    "\n",
    "os.chdir(input_dir)\n",
    "texts = []\n",
    "for i in txt_files:\n",
    "    if i.endswith('.txt'):\n",
    "        open_file = open(i, 'r', encoding='utf-8')\n",
    "        read_file = open_file.read()\n",
    "        texts.append(read_file)\n",
    "\n",
    "os.chdir(home_dir)"
   ]
  },
  {
   "cell_type": "code",
   "execution_count": 15,
   "id": "d9a5f72b-2106-4a0c-890b-768f731aee70",
   "metadata": {},
   "outputs": [],
   "source": [
    "df = pd.DataFrame({\n",
    "    'year':years,\n",
    "    'author':authors,\n",
    "    'title':titles,\n",
    "    'text':texts}) "
   ]
  },
  {
   "cell_type": "code",
   "execution_count": 16,
   "id": "c1224ae4",
   "metadata": {},
   "outputs": [
    {
     "name": "stdout",
     "output_type": "stream",
     "text": [
      "\n",
      "\n",
      "Count paragraphs:\n",
      "\n",
      "\n",
      "\n",
      "Count sentences with tech keywords:\n",
      "\n",
      "\n",
      "\n",
      "Count tech sentences that holds sensation keywords:\n",
      "\n"
     ]
    }
   ],
   "source": [
    "# split text in paragraphs and count paragraphs\n",
    "def count_sentences(text):\n",
    "    sent = text.split('.')\n",
    "    sent = [s.strip() for s in sent]\n",
    "    return len(sent)\n",
    "\n",
    "print ('\\n\\nCount paragraphs:\\n')\n",
    "df['count_sentences'] = df['text'].apply(lambda text : count_sentences(text))\n",
    "\n",
    "\n",
    "#### Read two lists of keywords - technology and emotion keyowrds ####\n",
    "\n",
    "# path to keyword lists directory \n",
    "input_dir = Path.cwd() / '../data/key_word_lists' \n",
    "\n",
    "\n",
    "# get the tech words\n",
    "key_word_file_name = 'technology_list.txt'\n",
    "with open(input_dir / key_word_file_name, 'r', encoding='utf-8-sig') as file:\n",
    "    tech_key_words = file.read().split('\\n')\n",
    "    \n",
    "# get the emo words    \n",
    "key_word_file_name = 'sensation_list.txt'\n",
    "with open(input_dir / key_word_file_name, 'r', encoding='utf-8-sig') as file:\n",
    "    emo_key_words = file.read().split('\\n')\n",
    "\n",
    "\n",
    "\n",
    "    \n",
    "### Build function to do the tech key word counting\n",
    "def count_kw(text, key_word_list):\n",
    "    text = text.lower()\n",
    "    sentences = text.split('.')\n",
    "    list_of_sents = [s.strip() for s in sentences]\n",
    "    \n",
    "    count = 0\n",
    "    # take paragraphs one by one\n",
    "    for sent in list_of_sents:\n",
    "        # take every word in the list of keywords\n",
    "        for key_word in key_word_list:\n",
    "            # if a keyword is in the paragraph return boolean\n",
    "            if re.search(key_word, sent):\n",
    "                # then add one to the counter \n",
    "                count = count + 1\n",
    "                # and then break out and return to the beginning of the loop \n",
    "                break\n",
    "    return count\n",
    "\n",
    "def count_kw_in_kw_sent(text, key_word_list1, key_word_list2):\n",
    "    text = text.lower()\n",
    "    sentences = text.split('.')\n",
    "    list_of_sents = [s.strip() for s in sentences]\n",
    "    \n",
    "    count = 0\n",
    "    # take paragraphs one by one\n",
    "    for sent in list_of_sents:\n",
    "        \n",
    "        # take every word in the list of tech words\n",
    "        for key_word in key_word_list1:\n",
    "            # if a word from the list is in the paragraph\n",
    "            if re.search(key_word, sent):\n",
    "                for key_word in key_word_list2:\n",
    "                    if key_word in sent:\n",
    "                        # then add one to the counter \n",
    "                        count = count + 1\n",
    "                        # and then break out and return to the beginning of the loop \n",
    "                        break\n",
    "    return count\n",
    "\n",
    "\n",
    "\n",
    "######### Count keyword in paragraphs ##### \n",
    "\n",
    "print ('\\n\\nCount sentences with tech keywords:\\n')    \n",
    "df['s_lightning_kw'] = df['text'].apply(lambda text : count_kw(text, tech_key_words))\n",
    "\n",
    "######### Count paragraphs with lighting technology containing “emotion vocabulary”\n",
    "print ('\\n\\nCount tech sentences that holds sensation keywords:\\n') \n",
    "df['s_lightning_emotion_kw'] = df['text'].apply(lambda text : count_kw_in_kw_sent(text, tech_key_words, emo_key_words))\n"
   ]
  },
  {
   "cell_type": "code",
   "execution_count": 17,
   "id": "34775d97",
   "metadata": {},
   "outputs": [],
   "source": [
    "# get relative data\n",
    "new_df = df.copy()\n",
    "new_df['lightning technology sentence share of all sentences'] = round(new_df['s_lightning_kw'] / new_df['count_sentences'], 3) \n",
    "new_df['relative frequency'] = round(new_df['s_lightning_emotion_kw'] / new_df['count_sentences'], 3) \n",
    "new_df['sen and lightning technology sentence share of lightning technology sentences'] = round(new_df['s_lightning_emotion_kw'] / new_df['s_lightning_kw'], 3)"
   ]
  },
  {
   "cell_type": "code",
   "execution_count": 35,
   "id": "6f47d150",
   "metadata": {},
   "outputs": [
    {
     "name": "stdout",
     "output_type": "stream",
     "text": [
      "\n",
      "The presens of sentences with lighting technologies and sensational words.\n",
      "We have the relative frequency of those sentences compared to all sentences in each novel.\n"
     ]
    },
    {
     "data": {
      "application/vnd.plotly.v1+json": {
       "config": {
        "plotlyServerURL": "https://plot.ly"
       },
       "data": [
        {
         "alignmentgroup": "True",
         "customdata": [
          [
           "Baudelaire",
           "Le spleen de Paris",
           "1869"
          ],
          [
           "Laforgue",
           "Les complaintes",
           "1885"
          ],
          [
           "Daudet",
           "Rose et Ninette",
           "1911"
          ],
          [
           "Proust",
           "Du côté de chez Swann",
           "1913"
          ],
          [
           "Tinayre",
           "La Rebelle",
           "1906"
          ],
          [
           "Huysmans",
           "En route",
           "1895"
          ],
          [
           "Rachilde",
           "Monsieur Vénus",
           "1884"
          ],
          [
           "Colette",
           "La Retraite sentimentale",
           "1907"
          ],
          [
           "Proust",
           "Albertine disparue",
           "1925"
          ],
          [
           "Huysmans",
           "A rebours",
           "1884"
          ],
          [
           "Huysmans",
           "La cathédrale",
           "1898"
          ],
          [
           "Proust",
           "Les Plaisirs et les jours",
           "1898"
          ],
          [
           "Tinayre",
           "La Maison du péché",
           "1902"
          ],
          [
           "Gautier",
           "Le Capitaine Fracasse",
           "1863"
          ],
          [
           "Proust",
           "La Prisonniere",
           "1923"
          ],
          [
           "Zola",
           "La Bête humaine",
           "1870"
          ],
          [
           "Proust",
           "Le Temps retrouve",
           "1927"
          ],
          [
           "Zola",
           "L oeuvre",
           "1886"
          ],
          [
           "Balzac",
           "Albert Savarus",
           "1853"
          ],
          [
           "Colette",
           "Claudine à Paris",
           "1901"
          ],
          [
           "Zola",
           "Travail",
           "1901"
          ],
          [
           "Delarue_Mardrus",
           "Toutoune et son amour",
           "1919"
          ],
          [
           "Zola",
           "Nana",
           "1879"
          ],
          [
           "Daudet",
           "Les rois en exil",
           "1879"
          ],
          [
           "Vallés",
           "L Insurgé",
           "1908"
          ],
          [
           "Fournier",
           "Le Grand Meaulnes",
           "1913"
          ],
          [
           "Proust",
           "lombre des jeunes filles en fleurs",
           "1919"
          ],
          [
           "Balzac",
           "Splendeurs et miseres des courtisanes 1 Esther heureuse",
           "1838"
          ],
          [
           "Daudet",
           "Le Soutien de Famille",
           "1885"
          ],
          [
           "Flaubert",
           "L éducation sentimentale",
           "1869"
          ],
          [
           "Zola",
           "La Curée",
           "1871"
          ],
          [
           "Zola",
           "L Assommoir",
           "1876"
          ],
          [
           "Zola",
           "Une page d amour",
           "1878"
          ],
          [
           "Feval",
           "Les Nuits de Paris Premiere nuit Gaulois et Romains",
           "1852"
          ],
          [
           "Huysmans",
           "Là-bas",
           "1891"
          ],
          [
           "Barbusse",
           "Le Feu",
           "1916"
          ],
          [
           "Proust",
           "Le Cote de Guermantes",
           "1920"
          ],
          [
           "Maupassant",
           "Bel ami édition 1901",
           "1885"
          ],
          [
           "Sue",
           "Les Mysteres de Paris",
           "1842"
          ],
          [
           "Zola",
           "Le Ventre de Paris",
           "1873"
          ],
          [
           "Balzac",
           "Splendeurs et miseres des courtisanes 4 La derniere incarnation de Vautrin",
           "1838"
          ],
          [
           "Balzac",
           "Le Cousin Pons",
           "1847"
          ],
          [
           "Maupassant",
           "Une vie",
           "1883"
          ],
          [
           "Leroux",
           "La Reine du Sabbat",
           "1925"
          ],
          [
           "Maupassant",
           "La Maison Tellier",
           "1881"
          ],
          [
           "Proust",
           "Sodome et Gomorrhe",
           "1924"
          ],
          [
           "Maupassant",
           "Miss Harriet",
           "1884"
          ],
          [
           "Hugo",
           "Les Misérables",
           "1862"
          ],
          [
           "Feval",
           "Les Errants de la nuit",
           "1880"
          ],
          [
           "Zola",
           "Le Docteur Pascal",
           "1893"
          ],
          [
           "Zola",
           "La Débâcle",
           "1892"
          ],
          [
           "Bourget",
           "Le disciple",
           "1889"
          ],
          [
           "Dumas",
           "Le Compte de Monte Cristo",
           "1844"
          ],
          [
           "Zola",
           "Pot-bouille",
           "1882"
          ],
          [
           "Zola",
           "La Fortune des Rougon",
           "1871"
          ],
          [
           "Vallés",
           "Le Bachelier",
           "1909"
          ],
          [
           "Zola",
           "La Joie de vivre",
           "1884"
          ],
          [
           "Audoux",
           "Marie-Claire",
           "1910"
          ],
          [
           "Vivien",
           "Une Femme m'apparut",
           "1905"
          ],
          [
           "Colette",
           "La Vagabonde",
           "1910"
          ],
          [
           "Delarue",
           "Mardrus Comme tout le monde",
           "1910"
          ],
          [
           "Blondel",
           "Elise ou leducation particuliere",
           "1856"
          ],
          [
           "Maupassant",
           "Les Dimanches d un bourgeois à Paris",
           "1910"
          ],
          [
           "Dickens",
           "Le conte des deux cités",
           "1859"
          ],
          [
           "France",
           "Le Lys rouge",
           "1894"
          ],
          [
           "Zola",
           "L Argent",
           "1891"
          ],
          [
           "Balzac",
           "La Cousine Bette",
           "1846"
          ],
          [
           "Zola",
           "Le Rêve",
           "1888"
          ],
          [
           "Zola",
           "Au bonheur des dames",
           "1883"
          ],
          [
           "Flaubert",
           "Bouvard et Pécuchet",
           "1881"
          ],
          [
           "Zola",
           "Son Excellence Eugène Rougon",
           "1876"
          ],
          [
           "Balzac",
           "Splendeurs et miseres des courtisanes 3 Ou menent les mauvais chemins",
           "1838"
          ],
          [
           "Bourget",
           "Laurence Albani",
           "1919"
          ],
          [
           "Dumas",
           "Les Trois Mousquetaires",
           "1844"
          ],
          [
           "Gide",
           "Les Faux monnayeurs",
           "1925"
          ],
          [
           "Balzac",
           "La Rabouilleuse",
           "1842"
          ],
          [
           "James",
           "L Américain à Paris tome 2",
           "1877"
          ],
          [
           "Colette",
           "L Ingénue libertine",
           "1909"
          ],
          [
           "Bovet",
           "Autour de l'étendard",
           "1904"
          ],
          [
           "France",
           "Histoire contemporaine IV Monsieur Bergeret à Paris",
           "1901"
          ],
          [
           "Maupassant",
           "Contes du jour et de la nuit",
           "1885"
          ],
          [
           "Mirbeau",
           "La Marechale",
           "1883"
          ],
          [
           "Zola",
           "Thérèse Raquin",
           "1867"
          ],
          [
           "Dumas",
           "La Dame aux camelias",
           "1848"
          ],
          [
           "Kock",
           "Madeleine",
           "1849"
          ],
          [
           "Vallès",
           "L Enfant",
           "1889"
          ],
          [
           "Balzac",
           "Splendeurs et miseres des courtisanes 2 A combien l amour revient aux vieillards",
           "1838"
          ],
          [
           "Maupassant",
           "La parure",
           "1884"
          ],
          [
           "Maupassant",
           "Claire de Lune",
           "1883"
          ],
          [
           "James",
           "L Américain à Paris tome 1",
           "1877"
          ]
         ],
         "hovertemplate": "x=%{x}<br>relative frequency=%{y}<br>author=%{customdata[0]}<br>title=%{customdata[1]}<br>year=%{customdata[2]}<extra></extra>",
         "legendgroup": "",
         "marker": {
          "color": "#636efa",
          "pattern": {
           "shape": ""
          }
         },
         "name": "",
         "offsetgroup": "",
         "orientation": "v",
         "showlegend": false,
         "textposition": "auto",
         "type": "bar",
         "x": [
          1,
          2,
          3,
          4,
          5,
          6,
          7,
          8,
          9,
          10,
          11,
          12,
          13,
          14,
          15,
          16,
          17,
          18,
          19,
          20,
          21,
          22,
          23,
          24,
          25,
          26,
          27,
          28,
          29,
          30,
          31,
          32,
          33,
          34,
          35,
          36,
          37,
          38,
          39,
          40,
          41,
          42,
          43,
          44,
          45,
          46,
          47,
          48,
          49,
          50,
          51,
          52,
          53,
          54,
          55,
          56,
          57,
          58,
          59,
          60,
          61,
          62,
          63,
          64,
          65,
          66,
          67,
          68,
          69,
          70,
          71,
          72,
          73,
          74,
          75,
          76,
          77,
          78,
          79,
          80,
          81,
          82,
          83,
          84,
          85,
          86,
          87,
          88,
          89,
          90
         ],
         "xaxis": "x",
         "y": [
          0.03,
          0.021,
          0.02,
          0.015,
          0.015,
          0.013,
          0.012,
          0.012,
          0.011,
          0.011,
          0.01,
          0.009,
          0.009,
          0.007,
          0.007,
          0.007,
          0.006,
          0.006,
          0.006,
          0.006,
          0.006,
          0.006,
          0.006,
          0.005,
          0.005,
          0.005,
          0.005,
          0.005,
          0.005,
          0.005,
          0.005,
          0.004,
          0.004,
          0.004,
          0.004,
          0.004,
          0.004,
          0.004,
          0.004,
          0.004,
          0.004,
          0.004,
          0.004,
          0.004,
          0.004,
          0.003,
          0.003,
          0.003,
          0.003,
          0.003,
          0.003,
          0.003,
          0.003,
          0.003,
          0.003,
          0.003,
          0.003,
          0.002,
          0.002,
          0.002,
          0.002,
          0.002,
          0.002,
          0.002,
          0.002,
          0.002,
          0.002,
          0.002,
          0.002,
          0.002,
          0.002,
          0.002,
          0.001,
          0.001,
          0.001,
          0.001,
          0.001,
          0.001,
          0.001,
          0.001,
          0.001,
          0.001,
          0.001,
          0,
          0,
          0,
          0,
          0,
          0,
          0
         ],
         "yaxis": "y"
        }
       ],
       "layout": {
        "autosize": true,
        "barmode": "relative",
        "legend": {
         "tracegroupgap": 0
        },
        "margin": {
         "t": 60
        },
        "template": {
         "data": {
          "bar": [
           {
            "error_x": {
             "color": "#2a3f5f"
            },
            "error_y": {
             "color": "#2a3f5f"
            },
            "marker": {
             "line": {
              "color": "#E5ECF6",
              "width": 0.5
             },
             "pattern": {
              "fillmode": "overlay",
              "size": 10,
              "solidity": 0.2
             }
            },
            "type": "bar"
           }
          ],
          "barpolar": [
           {
            "marker": {
             "line": {
              "color": "#E5ECF6",
              "width": 0.5
             },
             "pattern": {
              "fillmode": "overlay",
              "size": 10,
              "solidity": 0.2
             }
            },
            "type": "barpolar"
           }
          ],
          "carpet": [
           {
            "aaxis": {
             "endlinecolor": "#2a3f5f",
             "gridcolor": "white",
             "linecolor": "white",
             "minorgridcolor": "white",
             "startlinecolor": "#2a3f5f"
            },
            "baxis": {
             "endlinecolor": "#2a3f5f",
             "gridcolor": "white",
             "linecolor": "white",
             "minorgridcolor": "white",
             "startlinecolor": "#2a3f5f"
            },
            "type": "carpet"
           }
          ],
          "choropleth": [
           {
            "colorbar": {
             "outlinewidth": 0,
             "ticks": ""
            },
            "type": "choropleth"
           }
          ],
          "contour": [
           {
            "colorbar": {
             "outlinewidth": 0,
             "ticks": ""
            },
            "colorscale": [
             [
              0,
              "#0d0887"
             ],
             [
              0.1111111111111111,
              "#46039f"
             ],
             [
              0.2222222222222222,
              "#7201a8"
             ],
             [
              0.3333333333333333,
              "#9c179e"
             ],
             [
              0.4444444444444444,
              "#bd3786"
             ],
             [
              0.5555555555555556,
              "#d8576b"
             ],
             [
              0.6666666666666666,
              "#ed7953"
             ],
             [
              0.7777777777777778,
              "#fb9f3a"
             ],
             [
              0.8888888888888888,
              "#fdca26"
             ],
             [
              1,
              "#f0f921"
             ]
            ],
            "type": "contour"
           }
          ],
          "contourcarpet": [
           {
            "colorbar": {
             "outlinewidth": 0,
             "ticks": ""
            },
            "type": "contourcarpet"
           }
          ],
          "heatmap": [
           {
            "colorbar": {
             "outlinewidth": 0,
             "ticks": ""
            },
            "colorscale": [
             [
              0,
              "#0d0887"
             ],
             [
              0.1111111111111111,
              "#46039f"
             ],
             [
              0.2222222222222222,
              "#7201a8"
             ],
             [
              0.3333333333333333,
              "#9c179e"
             ],
             [
              0.4444444444444444,
              "#bd3786"
             ],
             [
              0.5555555555555556,
              "#d8576b"
             ],
             [
              0.6666666666666666,
              "#ed7953"
             ],
             [
              0.7777777777777778,
              "#fb9f3a"
             ],
             [
              0.8888888888888888,
              "#fdca26"
             ],
             [
              1,
              "#f0f921"
             ]
            ],
            "type": "heatmap"
           }
          ],
          "heatmapgl": [
           {
            "colorbar": {
             "outlinewidth": 0,
             "ticks": ""
            },
            "colorscale": [
             [
              0,
              "#0d0887"
             ],
             [
              0.1111111111111111,
              "#46039f"
             ],
             [
              0.2222222222222222,
              "#7201a8"
             ],
             [
              0.3333333333333333,
              "#9c179e"
             ],
             [
              0.4444444444444444,
              "#bd3786"
             ],
             [
              0.5555555555555556,
              "#d8576b"
             ],
             [
              0.6666666666666666,
              "#ed7953"
             ],
             [
              0.7777777777777778,
              "#fb9f3a"
             ],
             [
              0.8888888888888888,
              "#fdca26"
             ],
             [
              1,
              "#f0f921"
             ]
            ],
            "type": "heatmapgl"
           }
          ],
          "histogram": [
           {
            "marker": {
             "pattern": {
              "fillmode": "overlay",
              "size": 10,
              "solidity": 0.2
             }
            },
            "type": "histogram"
           }
          ],
          "histogram2d": [
           {
            "colorbar": {
             "outlinewidth": 0,
             "ticks": ""
            },
            "colorscale": [
             [
              0,
              "#0d0887"
             ],
             [
              0.1111111111111111,
              "#46039f"
             ],
             [
              0.2222222222222222,
              "#7201a8"
             ],
             [
              0.3333333333333333,
              "#9c179e"
             ],
             [
              0.4444444444444444,
              "#bd3786"
             ],
             [
              0.5555555555555556,
              "#d8576b"
             ],
             [
              0.6666666666666666,
              "#ed7953"
             ],
             [
              0.7777777777777778,
              "#fb9f3a"
             ],
             [
              0.8888888888888888,
              "#fdca26"
             ],
             [
              1,
              "#f0f921"
             ]
            ],
            "type": "histogram2d"
           }
          ],
          "histogram2dcontour": [
           {
            "colorbar": {
             "outlinewidth": 0,
             "ticks": ""
            },
            "colorscale": [
             [
              0,
              "#0d0887"
             ],
             [
              0.1111111111111111,
              "#46039f"
             ],
             [
              0.2222222222222222,
              "#7201a8"
             ],
             [
              0.3333333333333333,
              "#9c179e"
             ],
             [
              0.4444444444444444,
              "#bd3786"
             ],
             [
              0.5555555555555556,
              "#d8576b"
             ],
             [
              0.6666666666666666,
              "#ed7953"
             ],
             [
              0.7777777777777778,
              "#fb9f3a"
             ],
             [
              0.8888888888888888,
              "#fdca26"
             ],
             [
              1,
              "#f0f921"
             ]
            ],
            "type": "histogram2dcontour"
           }
          ],
          "mesh3d": [
           {
            "colorbar": {
             "outlinewidth": 0,
             "ticks": ""
            },
            "type": "mesh3d"
           }
          ],
          "parcoords": [
           {
            "line": {
             "colorbar": {
              "outlinewidth": 0,
              "ticks": ""
             }
            },
            "type": "parcoords"
           }
          ],
          "pie": [
           {
            "automargin": true,
            "type": "pie"
           }
          ],
          "scatter": [
           {
            "fillpattern": {
             "fillmode": "overlay",
             "size": 10,
             "solidity": 0.2
            },
            "type": "scatter"
           }
          ],
          "scatter3d": [
           {
            "line": {
             "colorbar": {
              "outlinewidth": 0,
              "ticks": ""
             }
            },
            "marker": {
             "colorbar": {
              "outlinewidth": 0,
              "ticks": ""
             }
            },
            "type": "scatter3d"
           }
          ],
          "scattercarpet": [
           {
            "marker": {
             "colorbar": {
              "outlinewidth": 0,
              "ticks": ""
             }
            },
            "type": "scattercarpet"
           }
          ],
          "scattergeo": [
           {
            "marker": {
             "colorbar": {
              "outlinewidth": 0,
              "ticks": ""
             }
            },
            "type": "scattergeo"
           }
          ],
          "scattergl": [
           {
            "marker": {
             "colorbar": {
              "outlinewidth": 0,
              "ticks": ""
             }
            },
            "type": "scattergl"
           }
          ],
          "scattermapbox": [
           {
            "marker": {
             "colorbar": {
              "outlinewidth": 0,
              "ticks": ""
             }
            },
            "type": "scattermapbox"
           }
          ],
          "scatterpolar": [
           {
            "marker": {
             "colorbar": {
              "outlinewidth": 0,
              "ticks": ""
             }
            },
            "type": "scatterpolar"
           }
          ],
          "scatterpolargl": [
           {
            "marker": {
             "colorbar": {
              "outlinewidth": 0,
              "ticks": ""
             }
            },
            "type": "scatterpolargl"
           }
          ],
          "scatterternary": [
           {
            "marker": {
             "colorbar": {
              "outlinewidth": 0,
              "ticks": ""
             }
            },
            "type": "scatterternary"
           }
          ],
          "surface": [
           {
            "colorbar": {
             "outlinewidth": 0,
             "ticks": ""
            },
            "colorscale": [
             [
              0,
              "#0d0887"
             ],
             [
              0.1111111111111111,
              "#46039f"
             ],
             [
              0.2222222222222222,
              "#7201a8"
             ],
             [
              0.3333333333333333,
              "#9c179e"
             ],
             [
              0.4444444444444444,
              "#bd3786"
             ],
             [
              0.5555555555555556,
              "#d8576b"
             ],
             [
              0.6666666666666666,
              "#ed7953"
             ],
             [
              0.7777777777777778,
              "#fb9f3a"
             ],
             [
              0.8888888888888888,
              "#fdca26"
             ],
             [
              1,
              "#f0f921"
             ]
            ],
            "type": "surface"
           }
          ],
          "table": [
           {
            "cells": {
             "fill": {
              "color": "#EBF0F8"
             },
             "line": {
              "color": "white"
             }
            },
            "header": {
             "fill": {
              "color": "#C8D4E3"
             },
             "line": {
              "color": "white"
             }
            },
            "type": "table"
           }
          ]
         },
         "layout": {
          "annotationdefaults": {
           "arrowcolor": "#2a3f5f",
           "arrowhead": 0,
           "arrowwidth": 1
          },
          "autotypenumbers": "strict",
          "coloraxis": {
           "colorbar": {
            "outlinewidth": 0,
            "ticks": ""
           }
          },
          "colorscale": {
           "diverging": [
            [
             0,
             "#8e0152"
            ],
            [
             0.1,
             "#c51b7d"
            ],
            [
             0.2,
             "#de77ae"
            ],
            [
             0.3,
             "#f1b6da"
            ],
            [
             0.4,
             "#fde0ef"
            ],
            [
             0.5,
             "#f7f7f7"
            ],
            [
             0.6,
             "#e6f5d0"
            ],
            [
             0.7,
             "#b8e186"
            ],
            [
             0.8,
             "#7fbc41"
            ],
            [
             0.9,
             "#4d9221"
            ],
            [
             1,
             "#276419"
            ]
           ],
           "sequential": [
            [
             0,
             "#0d0887"
            ],
            [
             0.1111111111111111,
             "#46039f"
            ],
            [
             0.2222222222222222,
             "#7201a8"
            ],
            [
             0.3333333333333333,
             "#9c179e"
            ],
            [
             0.4444444444444444,
             "#bd3786"
            ],
            [
             0.5555555555555556,
             "#d8576b"
            ],
            [
             0.6666666666666666,
             "#ed7953"
            ],
            [
             0.7777777777777778,
             "#fb9f3a"
            ],
            [
             0.8888888888888888,
             "#fdca26"
            ],
            [
             1,
             "#f0f921"
            ]
           ],
           "sequentialminus": [
            [
             0,
             "#0d0887"
            ],
            [
             0.1111111111111111,
             "#46039f"
            ],
            [
             0.2222222222222222,
             "#7201a8"
            ],
            [
             0.3333333333333333,
             "#9c179e"
            ],
            [
             0.4444444444444444,
             "#bd3786"
            ],
            [
             0.5555555555555556,
             "#d8576b"
            ],
            [
             0.6666666666666666,
             "#ed7953"
            ],
            [
             0.7777777777777778,
             "#fb9f3a"
            ],
            [
             0.8888888888888888,
             "#fdca26"
            ],
            [
             1,
             "#f0f921"
            ]
           ]
          },
          "colorway": [
           "#636efa",
           "#EF553B",
           "#00cc96",
           "#ab63fa",
           "#FFA15A",
           "#19d3f3",
           "#FF6692",
           "#B6E880",
           "#FF97FF",
           "#FECB52"
          ],
          "font": {
           "color": "#2a3f5f"
          },
          "geo": {
           "bgcolor": "white",
           "lakecolor": "white",
           "landcolor": "#E5ECF6",
           "showlakes": true,
           "showland": true,
           "subunitcolor": "white"
          },
          "hoverlabel": {
           "align": "left"
          },
          "hovermode": "closest",
          "mapbox": {
           "style": "light"
          },
          "paper_bgcolor": "white",
          "plot_bgcolor": "#E5ECF6",
          "polar": {
           "angularaxis": {
            "gridcolor": "white",
            "linecolor": "white",
            "ticks": ""
           },
           "bgcolor": "#E5ECF6",
           "radialaxis": {
            "gridcolor": "white",
            "linecolor": "white",
            "ticks": ""
           }
          },
          "scene": {
           "xaxis": {
            "backgroundcolor": "#E5ECF6",
            "gridcolor": "white",
            "gridwidth": 2,
            "linecolor": "white",
            "showbackground": true,
            "ticks": "",
            "zerolinecolor": "white"
           },
           "yaxis": {
            "backgroundcolor": "#E5ECF6",
            "gridcolor": "white",
            "gridwidth": 2,
            "linecolor": "white",
            "showbackground": true,
            "ticks": "",
            "zerolinecolor": "white"
           },
           "zaxis": {
            "backgroundcolor": "#E5ECF6",
            "gridcolor": "white",
            "gridwidth": 2,
            "linecolor": "white",
            "showbackground": true,
            "ticks": "",
            "zerolinecolor": "white"
           }
          },
          "shapedefaults": {
           "line": {
            "color": "#2a3f5f"
           }
          },
          "ternary": {
           "aaxis": {
            "gridcolor": "white",
            "linecolor": "white",
            "ticks": ""
           },
           "baxis": {
            "gridcolor": "white",
            "linecolor": "white",
            "ticks": ""
           },
           "bgcolor": "#E5ECF6",
           "caxis": {
            "gridcolor": "white",
            "linecolor": "white",
            "ticks": ""
           }
          },
          "title": {
           "x": 0.05
          },
          "xaxis": {
           "automargin": true,
           "gridcolor": "white",
           "linecolor": "white",
           "ticks": "",
           "title": {
            "standoff": 15
           },
           "zerolinecolor": "white",
           "zerolinewidth": 2
          },
          "yaxis": {
           "automargin": true,
           "gridcolor": "white",
           "linecolor": "white",
           "ticks": "",
           "title": {
            "standoff": 15
           },
           "zerolinecolor": "white",
           "zerolinewidth": 2
          }
         }
        },
        "xaxis": {
         "anchor": "y",
         "autorange": true,
         "domain": [
          0,
          1
         ],
         "range": [
          0.5,
          90.5
         ],
         "title": {
          "text": "Novels on x axis; relative frequency of sentences with a technology and emotional keyword on y axis"
         },
         "type": "linear"
        },
        "yaxis": {
         "anchor": "x",
         "autorange": true,
         "domain": [
          0,
          1
         ],
         "range": [
          0,
          0.031578947368421054
         ],
         "title": {
          "text": "Relative value"
         },
         "type": "linear"
        }
       }
      },
      "image/png": "[encoded data removed]",
      "text/html": [
       "<div>                            <div id=\"d9e9a15e-de45-4b08-90df-89abb1743b1d\" class=\"plotly-graph-div\" style=\"height:525px; width:100%;\"></div>            <script type=\"text/javascript\">                require([\"plotly\"], function(Plotly) {                    window.PLOTLYENV=window.PLOTLYENV || {};                                    if (document.getElementById(\"d9e9a15e-de45-4b08-90df-89abb1743b1d\")) {                    Plotly.newPlot(                        \"d9e9a15e-de45-4b08-90df-89abb1743b1d\",                        [{\"alignmentgroup\":\"True\",\"customdata\":[[\"Baudelaire\",\"Le spleen de Paris\",\"1869\"],[\"Laforgue\",\"Les complaintes\",\"1885\"],[\"Daudet\",\"Rose et Ninette\",\"1911\"],[\"Proust\",\"Du côté de chez Swann\",\"1913\"],[\"Tinayre\",\"La Rebelle\",\"1906\"],[\"Huysmans\",\"En route\",\"1895\"],[\"Rachilde\",\"Monsieur Vénus\",\"1884\"],[\"Colette\",\"La Retraite sentimentale\",\"1907\"],[\"Proust\",\"Albertine disparue\",\"1925\"],[\"Huysmans\",\"A rebours\",\"1884\"],[\"Huysmans\",\"La cathédrale\",\"1898\"],[\"Proust\",\"Les Plaisirs et les jours\",\"1898\"],[\"Tinayre\",\"La Maison du péché\",\"1902\"],[\"Gautier\",\"Le Capitaine Fracasse\",\"1863\"],[\"Proust\",\"La Prisonniere\",\"1923\"],[\"Zola\",\"La Bête humaine\",\"1870\"],[\"Proust\",\"Le Temps retrouve\",\"1927\"],[\"Zola\",\"L oeuvre\",\"1886\"],[\"Balzac\",\"Albert Savarus\",\"1853\"],[\"Colette\",\"Claudine à Paris\",\"1901\"],[\"Zola\",\"Travail\",\"1901\"],[\"Delarue_Mardrus\",\"Toutoune et son amour\",\"1919\"],[\"Zola\",\"Nana\",\"1879\"],[\"Daudet\",\"Les rois en exil\",\"1879\"],[\"Vallés\",\"L Insurgé\",\"1908\"],[\"Fournier\",\"Le Grand Meaulnes\",\"1913\"],[\"Proust\",\"lombre des jeunes filles en fleurs\",\"1919\"],[\"Balzac\",\"Splendeurs et miseres des courtisanes 1 Esther heureuse\",\"1838\"],[\"Daudet\",\"Le Soutien de Famille\",\"1885\"],[\"Flaubert\",\"L éducation sentimentale\",\"1869\"],[\"Zola\",\"La Curée\",\"1871\"],[\"Zola\",\"L Assommoir\",\"1876\"],[\"Zola\",\"Une page d amour\",\"1878\"],[\"Feval\",\"Les Nuits de Paris Premiere nuit Gaulois et Romains\",\"1852\"],[\"Huysmans\",\"Là-bas\",\"1891\"],[\"Barbusse\",\"Le Feu\",\"1916\"],[\"Proust\",\"Le Cote de Guermantes\",\"1920\"],[\"Maupassant\",\"Bel ami édition 1901\",\"1885\"],[\"Sue\",\"Les Mysteres de Paris\",\"1842\"],[\"Zola\",\"Le Ventre de Paris\",\"1873\"],[\"Balzac\",\"Splendeurs et miseres des courtisanes 4 La derniere incarnation de Vautrin\",\"1838\"],[\"Balzac\",\"Le Cousin Pons\",\"1847\"],[\"Maupassant\",\"Une vie\",\"1883\"],[\"Leroux\",\"La Reine du Sabbat\",\"1925\"],[\"Maupassant\",\"La Maison Tellier\",\"1881\"],[\"Proust\",\"Sodome et Gomorrhe\",\"1924\"],[\"Maupassant\",\"Miss Harriet\",\"1884\"],[\"Hugo\",\"Les Misérables\",\"1862\"],[\"Feval\",\"Les Errants de la nuit\",\"1880\"],[\"Zola\",\"Le Docteur Pascal\",\"1893\"],[\"Zola\",\"La Débâcle\",\"1892\"],[\"Bourget\",\"Le disciple\",\"1889\"],[\"Dumas\",\"Le Compte de Monte Cristo\",\"1844\"],[\"Zola\",\"Pot-bouille\",\"1882\"],[\"Zola\",\"La Fortune des Rougon\",\"1871\"],[\"Vallés\",\"Le Bachelier\",\"1909\"],[\"Zola\",\"La Joie de vivre\",\"1884\"],[\"Audoux\",\"Marie-Claire\",\"1910\"],[\"Vivien\",\"Une Femme m'apparut\",\"1905\"],[\"Colette\",\"La Vagabonde\",\"1910\"],[\"Delarue\",\"Mardrus Comme tout le monde\",\"1910\"],[\"Blondel\",\"Elise ou leducation particuliere\",\"1856\"],[\"Maupassant\",\"Les Dimanches d un bourgeois à Paris\",\"1910\"],[\"Dickens\",\"Le conte des deux cités\",\"1859\"],[\"France\",\"Le Lys rouge\",\"1894\"],[\"Zola\",\"L Argent\",\"1891\"],[\"Balzac\",\"La Cousine Bette\",\"1846\"],[\"Zola\",\"Le Rêve\",\"1888\"],[\"Zola\",\"Au bonheur des dames\",\"1883\"],[\"Flaubert\",\"Bouvard et Pécuchet\",\"1881\"],[\"Zola\",\"Son Excellence Eugène Rougon\",\"1876\"],[\"Balzac\",\"Splendeurs et miseres des courtisanes 3 Ou menent les mauvais chemins\",\"1838\"],[\"Bourget\",\"Laurence Albani\",\"1919\"],[\"Dumas\",\"Les Trois Mousquetaires\",\"1844\"],[\"Gide\",\"Les Faux monnayeurs\",\"1925\"],[\"Balzac\",\"La Rabouilleuse\",\"1842\"],[\"James\",\"L Américain à Paris tome 2\",\"1877\"],[\"Colette\",\"L Ingénue libertine\",\"1909\"],[\"Bovet\",\"Autour de l'étendard\",\"1904\"],[\"France\",\"Histoire contemporaine IV Monsieur Bergeret à Paris\",\"1901\"],[\"Maupassant\",\"Contes du jour et de la nuit\",\"1885\"],[\"Mirbeau\",\"La Marechale\",\"1883\"],[\"Zola\",\"Thérèse Raquin\",\"1867\"],[\"Dumas\",\"La Dame aux camelias\",\"1848\"],[\"Kock\",\"Madeleine\",\"1849\"],[\"Vallès\",\"L Enfant\",\"1889\"],[\"Balzac\",\"Splendeurs et miseres des courtisanes 2 A combien l amour revient aux vieillards\",\"1838\"],[\"Maupassant\",\"La parure\",\"1884\"],[\"Maupassant\",\"Claire de Lune\",\"1883\"],[\"James\",\"L Américain à Paris tome 1\",\"1877\"]],\"hovertemplate\":\"x=%{x}\\u003cbr\\u003erelative frequency=%{y}\\u003cbr\\u003eauthor=%{customdata[0]}\\u003cbr\\u003etitle=%{customdata[1]}\\u003cbr\\u003eyear=%{customdata[2]}\\u003cextra\\u003e\\u003c\\u002fextra\\u003e\",\"legendgroup\":\"\",\"marker\":{\"color\":\"#636efa\",\"pattern\":{\"shape\":\"\"}},\"name\":\"\",\"offsetgroup\":\"\",\"orientation\":\"v\",\"showlegend\":false,\"textposition\":\"auto\",\"x\":[1,2,3,4,5,6,7,8,9,10,11,12,13,14,15,16,17,18,19,20,21,22,23,24,25,26,27,28,29,30,31,32,33,34,35,36,37,38,39,40,41,42,43,44,45,46,47,48,49,50,51,52,53,54,55,56,57,58,59,60,61,62,63,64,65,66,67,68,69,70,71,72,73,74,75,76,77,78,79,80,81,82,83,84,85,86,87,88,89,90],\"xaxis\":\"x\",\"y\":[0.03,0.021,0.02,0.015,0.015,0.013,0.012,0.012,0.011,0.011,0.01,0.009,0.009,0.007,0.007,0.007,0.006,0.006,0.006,0.006,0.006,0.006,0.006,0.005,0.005,0.005,0.005,0.005,0.005,0.005,0.005,0.004,0.004,0.004,0.004,0.004,0.004,0.004,0.004,0.004,0.004,0.004,0.004,0.004,0.004,0.003,0.003,0.003,0.003,0.003,0.003,0.003,0.003,0.003,0.003,0.003,0.003,0.002,0.002,0.002,0.002,0.002,0.002,0.002,0.002,0.002,0.002,0.002,0.002,0.002,0.002,0.002,0.001,0.001,0.001,0.001,0.001,0.001,0.001,0.001,0.001,0.001,0.001,0.0,0.0,0.0,0.0,0.0,0.0,0.0],\"yaxis\":\"y\",\"type\":\"bar\"}],                        {\"template\":{\"data\":{\"histogram2dcontour\":[{\"type\":\"histogram2dcontour\",\"colorbar\":{\"outlinewidth\":0,\"ticks\":\"\"},\"colorscale\":[[0.0,\"#0d0887\"],[0.1111111111111111,\"#46039f\"],[0.2222222222222222,\"#7201a8\"],[0.3333333333333333,\"#9c179e\"],[0.4444444444444444,\"#bd3786\"],[0.5555555555555556,\"#d8576b\"],[0.6666666666666666,\"#ed7953\"],[0.7777777777777778,\"#fb9f3a\"],[0.8888888888888888,\"#fdca26\"],[1.0,\"#f0f921\"]]}],\"choropleth\":[{\"type\":\"choropleth\",\"colorbar\":{\"outlinewidth\":0,\"ticks\":\"\"}}],\"histogram2d\":[{\"type\":\"histogram2d\",\"colorbar\":{\"outlinewidth\":0,\"ticks\":\"\"},\"colorscale\":[[0.0,\"#0d0887\"],[0.1111111111111111,\"#46039f\"],[0.2222222222222222,\"#7201a8\"],[0.3333333333333333,\"#9c179e\"],[0.4444444444444444,\"#bd3786\"],[0.5555555555555556,\"#d8576b\"],[0.6666666666666666,\"#ed7953\"],[0.7777777777777778,\"#fb9f3a\"],[0.8888888888888888,\"#fdca26\"],[1.0,\"#f0f921\"]]}],\"heatmap\":[{\"type\":\"heatmap\",\"colorbar\":{\"outlinewidth\":0,\"ticks\":\"\"},\"colorscale\":[[0.0,\"#0d0887\"],[0.1111111111111111,\"#46039f\"],[0.2222222222222222,\"#7201a8\"],[0.3333333333333333,\"#9c179e\"],[0.4444444444444444,\"#bd3786\"],[0.5555555555555556,\"#d8576b\"],[0.6666666666666666,\"#ed7953\"],[0.7777777777777778,\"#fb9f3a\"],[0.8888888888888888,\"#fdca26\"],[1.0,\"#f0f921\"]]}],\"heatmapgl\":[{\"type\":\"heatmapgl\",\"colorbar\":{\"outlinewidth\":0,\"ticks\":\"\"},\"colorscale\":[[0.0,\"#0d0887\"],[0.1111111111111111,\"#46039f\"],[0.2222222222222222,\"#7201a8\"],[0.3333333333333333,\"#9c179e\"],[0.4444444444444444,\"#bd3786\"],[0.5555555555555556,\"#d8576b\"],[0.6666666666666666,\"#ed7953\"],[0.7777777777777778,\"#fb9f3a\"],[0.8888888888888888,\"#fdca26\"],[1.0,\"#f0f921\"]]}],\"contourcarpet\":[{\"type\":\"contourcarpet\",\"colorbar\":{\"outlinewidth\":0,\"ticks\":\"\"}}],\"contour\":[{\"type\":\"contour\",\"colorbar\":{\"outlinewidth\":0,\"ticks\":\"\"},\"colorscale\":[[0.0,\"#0d0887\"],[0.1111111111111111,\"#46039f\"],[0.2222222222222222,\"#7201a8\"],[0.3333333333333333,\"#9c179e\"],[0.4444444444444444,\"#bd3786\"],[0.5555555555555556,\"#d8576b\"],[0.6666666666666666,\"#ed7953\"],[0.7777777777777778,\"#fb9f3a\"],[0.8888888888888888,\"#fdca26\"],[1.0,\"#f0f921\"]]}],\"surface\":[{\"type\":\"surface\",\"colorbar\":{\"outlinewidth\":0,\"ticks\":\"\"},\"colorscale\":[[0.0,\"#0d0887\"],[0.1111111111111111,\"#46039f\"],[0.2222222222222222,\"#7201a8\"],[0.3333333333333333,\"#9c179e\"],[0.4444444444444444,\"#bd3786\"],[0.5555555555555556,\"#d8576b\"],[0.6666666666666666,\"#ed7953\"],[0.7777777777777778,\"#fb9f3a\"],[0.8888888888888888,\"#fdca26\"],[1.0,\"#f0f921\"]]}],\"mesh3d\":[{\"type\":\"mesh3d\",\"colorbar\":{\"outlinewidth\":0,\"ticks\":\"\"}}],\"scatter\":[{\"fillpattern\":{\"fillmode\":\"overlay\",\"size\":10,\"solidity\":0.2},\"type\":\"scatter\"}],\"parcoords\":[{\"type\":\"parcoords\",\"line\":{\"colorbar\":{\"outlinewidth\":0,\"ticks\":\"\"}}}],\"scatterpolargl\":[{\"type\":\"scatterpolargl\",\"marker\":{\"colorbar\":{\"outlinewidth\":0,\"ticks\":\"\"}}}],\"bar\":[{\"error_x\":{\"color\":\"#2a3f5f\"},\"error_y\":{\"color\":\"#2a3f5f\"},\"marker\":{\"line\":{\"color\":\"#E5ECF6\",\"width\":0.5},\"pattern\":{\"fillmode\":\"overlay\",\"size\":10,\"solidity\":0.2}},\"type\":\"bar\"}],\"scattergeo\":[{\"type\":\"scattergeo\",\"marker\":{\"colorbar\":{\"outlinewidth\":0,\"ticks\":\"\"}}}],\"scatterpolar\":[{\"type\":\"scatterpolar\",\"marker\":{\"colorbar\":{\"outlinewidth\":0,\"ticks\":\"\"}}}],\"histogram\":[{\"marker\":{\"pattern\":{\"fillmode\":\"overlay\",\"size\":10,\"solidity\":0.2}},\"type\":\"histogram\"}],\"scattergl\":[{\"type\":\"scattergl\",\"marker\":{\"colorbar\":{\"outlinewidth\":0,\"ticks\":\"\"}}}],\"scatter3d\":[{\"type\":\"scatter3d\",\"line\":{\"colorbar\":{\"outlinewidth\":0,\"ticks\":\"\"}},\"marker\":{\"colorbar\":{\"outlinewidth\":0,\"ticks\":\"\"}}}],\"scattermapbox\":[{\"type\":\"scattermapbox\",\"marker\":{\"colorbar\":{\"outlinewidth\":0,\"ticks\":\"\"}}}],\"scatterternary\":[{\"type\":\"scatterternary\",\"marker\":{\"colorbar\":{\"outlinewidth\":0,\"ticks\":\"\"}}}],\"scattercarpet\":[{\"type\":\"scattercarpet\",\"marker\":{\"colorbar\":{\"outlinewidth\":0,\"ticks\":\"\"}}}],\"carpet\":[{\"aaxis\":{\"endlinecolor\":\"#2a3f5f\",\"gridcolor\":\"white\",\"linecolor\":\"white\",\"minorgridcolor\":\"white\",\"startlinecolor\":\"#2a3f5f\"},\"baxis\":{\"endlinecolor\":\"#2a3f5f\",\"gridcolor\":\"white\",\"linecolor\":\"white\",\"minorgridcolor\":\"white\",\"startlinecolor\":\"#2a3f5f\"},\"type\":\"carpet\"}],\"table\":[{\"cells\":{\"fill\":{\"color\":\"#EBF0F8\"},\"line\":{\"color\":\"white\"}},\"header\":{\"fill\":{\"color\":\"#C8D4E3\"},\"line\":{\"color\":\"white\"}},\"type\":\"table\"}],\"barpolar\":[{\"marker\":{\"line\":{\"color\":\"#E5ECF6\",\"width\":0.5},\"pattern\":{\"fillmode\":\"overlay\",\"size\":10,\"solidity\":0.2}},\"type\":\"barpolar\"}],\"pie\":[{\"automargin\":true,\"type\":\"pie\"}]},\"layout\":{\"autotypenumbers\":\"strict\",\"colorway\":[\"#636efa\",\"#EF553B\",\"#00cc96\",\"#ab63fa\",\"#FFA15A\",\"#19d3f3\",\"#FF6692\",\"#B6E880\",\"#FF97FF\",\"#FECB52\"],\"font\":{\"color\":\"#2a3f5f\"},\"hovermode\":\"closest\",\"hoverlabel\":{\"align\":\"left\"},\"paper_bgcolor\":\"white\",\"plot_bgcolor\":\"#E5ECF6\",\"polar\":{\"bgcolor\":\"#E5ECF6\",\"angularaxis\":{\"gridcolor\":\"white\",\"linecolor\":\"white\",\"ticks\":\"\"},\"radialaxis\":{\"gridcolor\":\"white\",\"linecolor\":\"white\",\"ticks\":\"\"}},\"ternary\":{\"bgcolor\":\"#E5ECF6\",\"aaxis\":{\"gridcolor\":\"white\",\"linecolor\":\"white\",\"ticks\":\"\"},\"baxis\":{\"gridcolor\":\"white\",\"linecolor\":\"white\",\"ticks\":\"\"},\"caxis\":{\"gridcolor\":\"white\",\"linecolor\":\"white\",\"ticks\":\"\"}},\"coloraxis\":{\"colorbar\":{\"outlinewidth\":0,\"ticks\":\"\"}},\"colorscale\":{\"sequential\":[[0.0,\"#0d0887\"],[0.1111111111111111,\"#46039f\"],[0.2222222222222222,\"#7201a8\"],[0.3333333333333333,\"#9c179e\"],[0.4444444444444444,\"#bd3786\"],[0.5555555555555556,\"#d8576b\"],[0.6666666666666666,\"#ed7953\"],[0.7777777777777778,\"#fb9f3a\"],[0.8888888888888888,\"#fdca26\"],[1.0,\"#f0f921\"]],\"sequentialminus\":[[0.0,\"#0d0887\"],[0.1111111111111111,\"#46039f\"],[0.2222222222222222,\"#7201a8\"],[0.3333333333333333,\"#9c179e\"],[0.4444444444444444,\"#bd3786\"],[0.5555555555555556,\"#d8576b\"],[0.6666666666666666,\"#ed7953\"],[0.7777777777777778,\"#fb9f3a\"],[0.8888888888888888,\"#fdca26\"],[1.0,\"#f0f921\"]],\"diverging\":[[0,\"#8e0152\"],[0.1,\"#c51b7d\"],[0.2,\"#de77ae\"],[0.3,\"#f1b6da\"],[0.4,\"#fde0ef\"],[0.5,\"#f7f7f7\"],[0.6,\"#e6f5d0\"],[0.7,\"#b8e186\"],[0.8,\"#7fbc41\"],[0.9,\"#4d9221\"],[1,\"#276419\"]]},\"xaxis\":{\"gridcolor\":\"white\",\"linecolor\":\"white\",\"ticks\":\"\",\"title\":{\"standoff\":15},\"zerolinecolor\":\"white\",\"automargin\":true,\"zerolinewidth\":2},\"yaxis\":{\"gridcolor\":\"white\",\"linecolor\":\"white\",\"ticks\":\"\",\"title\":{\"standoff\":15},\"zerolinecolor\":\"white\",\"automargin\":true,\"zerolinewidth\":2},\"scene\":{\"xaxis\":{\"backgroundcolor\":\"#E5ECF6\",\"gridcolor\":\"white\",\"linecolor\":\"white\",\"showbackground\":true,\"ticks\":\"\",\"zerolinecolor\":\"white\",\"gridwidth\":2},\"yaxis\":{\"backgroundcolor\":\"#E5ECF6\",\"gridcolor\":\"white\",\"linecolor\":\"white\",\"showbackground\":true,\"ticks\":\"\",\"zerolinecolor\":\"white\",\"gridwidth\":2},\"zaxis\":{\"backgroundcolor\":\"#E5ECF6\",\"gridcolor\":\"white\",\"linecolor\":\"white\",\"showbackground\":true,\"ticks\":\"\",\"zerolinecolor\":\"white\",\"gridwidth\":2}},\"shapedefaults\":{\"line\":{\"color\":\"#2a3f5f\"}},\"annotationdefaults\":{\"arrowcolor\":\"#2a3f5f\",\"arrowhead\":0,\"arrowwidth\":1},\"geo\":{\"bgcolor\":\"white\",\"landcolor\":\"#E5ECF6\",\"subunitcolor\":\"white\",\"showland\":true,\"showlakes\":true,\"lakecolor\":\"white\"},\"title\":{\"x\":0.05},\"mapbox\":{\"style\":\"light\"}}},\"xaxis\":{\"anchor\":\"y\",\"domain\":[0.0,1.0],\"title\":{\"text\":\"Novels on x axis; relative frequency of sentences with a technology and emotional keyword on y axis\"}},\"yaxis\":{\"anchor\":\"x\",\"domain\":[0.0,1.0],\"title\":{\"text\":\"Relative value\"}},\"legend\":{\"tracegroupgap\":0},\"margin\":{\"t\":60},\"barmode\":\"relative\"},                        {\"responsive\": true}                    ).then(function(){\n",
       "                            \n",
       "var gd = document.getElementById('d9e9a15e-de45-4b08-90df-89abb1743b1d');\n",
       "var x = new MutationObserver(function (mutations, observer) {{\n",
       "        var display = window.getComputedStyle(gd).display;\n",
       "        if (!display || display === 'none') {{\n",
       "            console.log([gd, 'removed!']);\n",
       "            Plotly.purge(gd);\n",
       "            observer.disconnect();\n",
       "        }}\n",
       "}});\n",
       "\n",
       "// Listen for the removal of the full notebook cells\n",
       "var notebookContainer = gd.closest('#notebook-container');\n",
       "if (notebookContainer) {{\n",
       "    x.observe(notebookContainer, {childList: true});\n",
       "}}\n",
       "\n",
       "// Listen for the clearing of the current output cell\n",
       "var outputEl = gd.closest('.output');\n",
       "if (outputEl) {{\n",
       "    x.observe(outputEl, {childList: true});\n",
       "}}\n",
       "\n",
       "                        })                };                });            </script>        </div>"
      ]
     },
     "metadata": {},
     "output_type": "display_data"
    }
   ],
   "source": [
    "import plotly.express as px\n",
    "\n",
    "x_var = new_df.index + 1\n",
    "y_var = 'relative frequency'\n",
    "\n",
    "\n",
    "fig = px.bar(new_df.sort_values(by=y_var, ascending=False), \n",
    "            x = x_var, \n",
    "            y = y_var,\n",
    "            hover_data=['author','title', 'year', 'relative frequency'])\n",
    "             \n",
    "# Update x-axis label\n",
    "fig.update_xaxes(title_text='Novels on x axis; relative frequency of sentences with a technology and emotional keyword on y axis')\n",
    "\n",
    "# Update y-axis label\n",
    "fig.update_yaxes(title_text='Relative value') \n",
    "print ('\\nThe presens of sentences with lighting technologies and sensational words.\\n'\\\n",
    "             'We have the relative frequency of those sentences compared to all sentences in each novel.')\n",
    "fig.show()"
   ]
  },
  {
   "cell_type": "code",
   "execution_count": 36,
   "id": "64ecb34b-830e-45b1-b8a9-fdc18b88f086",
   "metadata": {},
   "outputs": [
    {
     "data": {
      "text/plain": [
       "3644773"
      ]
     },
     "execution_count": 36,
     "metadata": {},
     "output_type": "execute_result"
    }
   ],
   "source": [
    "import plotly.io as io\n",
    "\n",
    "html_snippet_start = '<!DOCTYPE html> <html> <head> <title>Title</title> </head> <body>' \n",
    "html_snippet_end = ' </body></html> '\n",
    "\n",
    "html_as_string = io.to_html(fig, full_html=False)\n",
    "\n",
    "vis_in_html = html_snippet_start + html_as_string + html_snippet_end\n",
    "\n",
    "of = open(r'C:\\Users\\lakj\\Documents\\GitHub\\Light_in_French_Literature\\visualisations\\emo_in_light_sent1_years_vs_rfeq.htm', 'w', encoding='utf-8-sig')\n",
    "of.write(vis_in_html)"
   ]
  },
  {
   "cell_type": "code",
   "execution_count": 28,
   "id": "256a0302-e777-40c8-9a64-dcd09df8bb9a",
   "metadata": {},
   "outputs": [],
   "source": [
    "# Group by year, join the textstrings and sum the numbers\n",
    "data_in = new_df[['year', 'author', 'title', 'count_sentences', 's_lightning_emotion_kw']]\n",
    "\n",
    "# Group by 'year' and aggregate the 'title' and 'author' columns\n",
    "# Sum the 'count_sentences', 's_lightning_kw', and 's_lightning_emotion_kw' columns\n",
    "data_out = data_in.groupby('year').agg({\n",
    "    'title': ' '.join,\n",
    "    'author': ' '.join,\n",
    "    'count_sentences': 'sum',\n",
    "    's_lightning_emotion_kw': 'sum'\n",
    "}).reset_index()\n",
    "\n",
    "data_out['relative frequency'] = round(data_out['s_lightning_emotion_kw'] / data_out['count_sentences'], 3) "
   ]
  },
  {
   "cell_type": "code",
   "execution_count": 32,
   "id": "a04f0fa2",
   "metadata": {},
   "outputs": [
    {
     "name": "stdout",
     "output_type": "stream",
     "text": [
      "\n",
      "The presens of sentences with lighting technologies and sensational words\n"
     ]
    },
    {
     "data": {
      "application/vnd.plotly.v1+json": {
       "config": {
        "plotlyServerURL": "https://plot.ly"
       },
       "data": [
        {
         "customdata": [
          [
           "Balzac Balzac Balzac Balzac",
           "Splendeurs et miseres des courtisanes 1 Esther heureuse Splendeurs et miseres des courtisanes 2 A combien l amour revient aux vieillards Splendeurs et miseres des courtisanes 3 Ou menent les mauvais chemins Splendeurs et miseres des courtisanes 4 La derniere incarnation de Vautrin"
          ],
          [
           "Balzac Sue",
           "La Rabouilleuse Les Mysteres de Paris"
          ],
          [
           "Dumas Dumas",
           "Le Compte de Monte Cristo Les Trois Mousquetaires"
          ],
          [
           "Balzac",
           "La Cousine Bette"
          ],
          [
           "Balzac",
           "Le Cousin Pons"
          ],
          [
           "Dumas",
           "La Dame aux camelias"
          ],
          [
           "Kock",
           "Madeleine"
          ],
          [
           "Feval",
           "Les Nuits de Paris Premiere nuit Gaulois et Romains"
          ],
          [
           "Balzac",
           "Albert Savarus"
          ],
          [
           "Blondel",
           "Elise ou leducation particuliere"
          ],
          [
           "Dickens",
           "Le conte des deux cités"
          ],
          [
           "Hugo",
           "Les Misérables"
          ],
          [
           "Gautier",
           "Le Capitaine Fracasse"
          ],
          [
           "Zola",
           "Thérèse Raquin"
          ],
          [
           "Baudelaire Flaubert",
           "Le spleen de Paris L éducation sentimentale"
          ],
          [
           "Zola",
           "La Bête humaine"
          ],
          [
           "Zola Zola",
           "La Curée La Fortune des Rougon"
          ],
          [
           "Zola",
           "Le Ventre de Paris"
          ],
          [
           "Zola Zola",
           "L Assommoir Son Excellence Eugène Rougon"
          ],
          [
           "James James",
           "L Américain à Paris tome 1 L Américain à Paris tome 2"
          ],
          [
           "Zola",
           "Une page d amour"
          ],
          [
           "Daudet Zola",
           "Les rois en exil Nana"
          ],
          [
           "Feval",
           "Les Errants de la nuit"
          ],
          [
           "Flaubert Maupassant",
           "Bouvard et Pécuchet La Maison Tellier"
          ],
          [
           "Zola",
           "Pot-bouille"
          ],
          [
           "Maupassant Maupassant Mirbeau Zola",
           "Claire de Lune Une vie La Marechale Au bonheur des dames"
          ],
          [
           "Huysmans Maupassant Maupassant Rachilde Zola",
           "A rebours La parure Miss Harriet Monsieur Vénus La Joie de vivre"
          ],
          [
           "Daudet Laforgue Maupassant Maupassant",
           "Le Soutien de Famille Les complaintes Bel ami édition 1901 Contes du jour et de la nuit"
          ],
          [
           "Zola",
           "L oeuvre"
          ],
          [
           "Zola",
           "Le Rêve"
          ],
          [
           "Bourget Vallès",
           "Le disciple L Enfant"
          ],
          [
           "Huysmans Zola",
           "Là-bas L Argent"
          ],
          [
           "Zola",
           "La Débâcle"
          ],
          [
           "Zola",
           "Le Docteur Pascal"
          ],
          [
           "France",
           "Le Lys rouge"
          ],
          [
           "Huysmans",
           "En route"
          ],
          [
           "Huysmans Proust",
           "La cathédrale Les Plaisirs et les jours"
          ],
          [
           "Colette France Zola",
           "Claudine à Paris Histoire contemporaine IV Monsieur Bergeret à Paris Travail"
          ],
          [
           "Tinayre",
           "La Maison du péché"
          ],
          [
           "Bovet",
           "Autour de l'étendard"
          ],
          [
           "Vivien",
           "Une Femme m'apparut"
          ],
          [
           "Tinayre",
           "La Rebelle"
          ],
          [
           "Colette",
           "La Retraite sentimentale"
          ],
          [
           "Vallés",
           "L Insurgé"
          ],
          [
           "Colette Vallés",
           "L Ingénue libertine Le Bachelier"
          ],
          [
           "Audoux Colette Delarue Maupassant",
           "Marie-Claire La Vagabonde Mardrus Comme tout le monde Les Dimanches d un bourgeois à Paris"
          ],
          [
           "Daudet",
           "Rose et Ninette"
          ],
          [
           "Fournier Proust",
           "Le Grand Meaulnes Du côté de chez Swann"
          ],
          [
           "Barbusse",
           "Le Feu"
          ],
          [
           "Bourget Delarue_Mardrus Proust",
           "Laurence Albani Toutoune et son amour lombre des jeunes filles en fleurs"
          ],
          [
           "Proust",
           "Le Cote de Guermantes"
          ],
          [
           "Proust",
           "La Prisonniere"
          ],
          [
           "Proust",
           "Sodome et Gomorrhe"
          ],
          [
           "Gide Leroux Proust",
           "Les Faux monnayeurs La Reine du Sabbat Albertine disparue"
          ],
          [
           "Proust",
           "Le Temps retrouve"
          ]
         ],
         "hovertemplate": "year=%{x}<br>relative frequency=%{y}<br>author=%{customdata[0]}<br>title=%{customdata[1]}<extra></extra>",
         "legendgroup": "",
         "line": {
          "color": "#636efa",
          "dash": "solid"
         },
         "marker": {
          "symbol": "circle"
         },
         "mode": "lines",
         "name": "",
         "orientation": "v",
         "showlegend": false,
         "type": "scatter",
         "x": [
          "1838",
          "1842",
          "1844",
          "1846",
          "1847",
          "1848",
          "1849",
          "1852",
          "1853",
          "1856",
          "1859",
          "1862",
          "1863",
          "1867",
          "1869",
          "1870",
          "1871",
          "1873",
          "1876",
          "1877",
          "1878",
          "1879",
          "1880",
          "1881",
          "1882",
          "1883",
          "1884",
          "1885",
          "1886",
          "1888",
          "1889",
          "1891",
          "1892",
          "1893",
          "1894",
          "1895",
          "1898",
          "1901",
          "1902",
          "1904",
          "1905",
          "1906",
          "1907",
          "1908",
          "1909",
          "1910",
          "1911",
          "1913",
          "1916",
          "1919",
          "1920",
          "1923",
          "1924",
          "1925",
          "1927"
         ],
         "xaxis": "x",
         "y": [
          0.003,
          0.004,
          0.002,
          0.002,
          0.004,
          0,
          0,
          0.004,
          0.006,
          0.002,
          0.002,
          0.003,
          0.007,
          0.001,
          0.008,
          0.007,
          0.004,
          0.004,
          0.003,
          0.001,
          0.004,
          0.005,
          0.003,
          0.002,
          0.003,
          0.002,
          0.005,
          0.005,
          0.006,
          0.002,
          0.002,
          0.003,
          0.003,
          0.003,
          0.002,
          0.013,
          0.01,
          0.005,
          0.009,
          0.001,
          0.002,
          0.015,
          0.012,
          0.005,
          0.002,
          0.002,
          0.02,
          0.011,
          0.004,
          0.004,
          0.004,
          0.007,
          0.003,
          0.004,
          0.006
         ],
         "yaxis": "y"
        }
       ],
       "layout": {
        "autosize": true,
        "legend": {
         "tracegroupgap": 0
        },
        "margin": {
         "t": 60
        },
        "template": {
         "data": {
          "bar": [
           {
            "error_x": {
             "color": "#2a3f5f"
            },
            "error_y": {
             "color": "#2a3f5f"
            },
            "marker": {
             "line": {
              "color": "#E5ECF6",
              "width": 0.5
             },
             "pattern": {
              "fillmode": "overlay",
              "size": 10,
              "solidity": 0.2
             }
            },
            "type": "bar"
           }
          ],
          "barpolar": [
           {
            "marker": {
             "line": {
              "color": "#E5ECF6",
              "width": 0.5
             },
             "pattern": {
              "fillmode": "overlay",
              "size": 10,
              "solidity": 0.2
             }
            },
            "type": "barpolar"
           }
          ],
          "carpet": [
           {
            "aaxis": {
             "endlinecolor": "#2a3f5f",
             "gridcolor": "white",
             "linecolor": "white",
             "minorgridcolor": "white",
             "startlinecolor": "#2a3f5f"
            },
            "baxis": {
             "endlinecolor": "#2a3f5f",
             "gridcolor": "white",
             "linecolor": "white",
             "minorgridcolor": "white",
             "startlinecolor": "#2a3f5f"
            },
            "type": "carpet"
           }
          ],
          "choropleth": [
           {
            "colorbar": {
             "outlinewidth": 0,
             "ticks": ""
            },
            "type": "choropleth"
           }
          ],
          "contour": [
           {
            "colorbar": {
             "outlinewidth": 0,
             "ticks": ""
            },
            "colorscale": [
             [
              0,
              "#0d0887"
             ],
             [
              0.1111111111111111,
              "#46039f"
             ],
             [
              0.2222222222222222,
              "#7201a8"
             ],
             [
              0.3333333333333333,
              "#9c179e"
             ],
             [
              0.4444444444444444,
              "#bd3786"
             ],
             [
              0.5555555555555556,
              "#d8576b"
             ],
             [
              0.6666666666666666,
              "#ed7953"
             ],
             [
              0.7777777777777778,
              "#fb9f3a"
             ],
             [
              0.8888888888888888,
              "#fdca26"
             ],
             [
              1,
              "#f0f921"
             ]
            ],
            "type": "contour"
           }
          ],
          "contourcarpet": [
           {
            "colorbar": {
             "outlinewidth": 0,
             "ticks": ""
            },
            "type": "contourcarpet"
           }
          ],
          "heatmap": [
           {
            "colorbar": {
             "outlinewidth": 0,
             "ticks": ""
            },
            "colorscale": [
             [
              0,
              "#0d0887"
             ],
             [
              0.1111111111111111,
              "#46039f"
             ],
             [
              0.2222222222222222,
              "#7201a8"
             ],
             [
              0.3333333333333333,
              "#9c179e"
             ],
             [
              0.4444444444444444,
              "#bd3786"
             ],
             [
              0.5555555555555556,
              "#d8576b"
             ],
             [
              0.6666666666666666,
              "#ed7953"
             ],
             [
              0.7777777777777778,
              "#fb9f3a"
             ],
             [
              0.8888888888888888,
              "#fdca26"
             ],
             [
              1,
              "#f0f921"
             ]
            ],
            "type": "heatmap"
           }
          ],
          "heatmapgl": [
           {
            "colorbar": {
             "outlinewidth": 0,
             "ticks": ""
            },
            "colorscale": [
             [
              0,
              "#0d0887"
             ],
             [
              0.1111111111111111,
              "#46039f"
             ],
             [
              0.2222222222222222,
              "#7201a8"
             ],
             [
              0.3333333333333333,
              "#9c179e"
             ],
             [
              0.4444444444444444,
              "#bd3786"
             ],
             [
              0.5555555555555556,
              "#d8576b"
             ],
             [
              0.6666666666666666,
              "#ed7953"
             ],
             [
              0.7777777777777778,
              "#fb9f3a"
             ],
             [
              0.8888888888888888,
              "#fdca26"
             ],
             [
              1,
              "#f0f921"
             ]
            ],
            "type": "heatmapgl"
           }
          ],
          "histogram": [
           {
            "marker": {
             "pattern": {
              "fillmode": "overlay",
              "size": 10,
              "solidity": 0.2
             }
            },
            "type": "histogram"
           }
          ],
          "histogram2d": [
           {
            "colorbar": {
             "outlinewidth": 0,
             "ticks": ""
            },
            "colorscale": [
             [
              0,
              "#0d0887"
             ],
             [
              0.1111111111111111,
              "#46039f"
             ],
             [
              0.2222222222222222,
              "#7201a8"
             ],
             [
              0.3333333333333333,
              "#9c179e"
             ],
             [
              0.4444444444444444,
              "#bd3786"
             ],
             [
              0.5555555555555556,
              "#d8576b"
             ],
             [
              0.6666666666666666,
              "#ed7953"
             ],
             [
              0.7777777777777778,
              "#fb9f3a"
             ],
             [
              0.8888888888888888,
              "#fdca26"
             ],
             [
              1,
              "#f0f921"
             ]
            ],
            "type": "histogram2d"
           }
          ],
          "histogram2dcontour": [
           {
            "colorbar": {
             "outlinewidth": 0,
             "ticks": ""
            },
            "colorscale": [
             [
              0,
              "#0d0887"
             ],
             [
              0.1111111111111111,
              "#46039f"
             ],
             [
              0.2222222222222222,
              "#7201a8"
             ],
             [
              0.3333333333333333,
              "#9c179e"
             ],
             [
              0.4444444444444444,
              "#bd3786"
             ],
             [
              0.5555555555555556,
              "#d8576b"
             ],
             [
              0.6666666666666666,
              "#ed7953"
             ],
             [
              0.7777777777777778,
              "#fb9f3a"
             ],
             [
              0.8888888888888888,
              "#fdca26"
             ],
             [
              1,
              "#f0f921"
             ]
            ],
            "type": "histogram2dcontour"
           }
          ],
          "mesh3d": [
           {
            "colorbar": {
             "outlinewidth": 0,
             "ticks": ""
            },
            "type": "mesh3d"
           }
          ],
          "parcoords": [
           {
            "line": {
             "colorbar": {
              "outlinewidth": 0,
              "ticks": ""
             }
            },
            "type": "parcoords"
           }
          ],
          "pie": [
           {
            "automargin": true,
            "type": "pie"
           }
          ],
          "scatter": [
           {
            "fillpattern": {
             "fillmode": "overlay",
             "size": 10,
             "solidity": 0.2
            },
            "type": "scatter"
           }
          ],
          "scatter3d": [
           {
            "line": {
             "colorbar": {
              "outlinewidth": 0,
              "ticks": ""
             }
            },
            "marker": {
             "colorbar": {
              "outlinewidth": 0,
              "ticks": ""
             }
            },
            "type": "scatter3d"
           }
          ],
          "scattercarpet": [
           {
            "marker": {
             "colorbar": {
              "outlinewidth": 0,
              "ticks": ""
             }
            },
            "type": "scattercarpet"
           }
          ],
          "scattergeo": [
           {
            "marker": {
             "colorbar": {
              "outlinewidth": 0,
              "ticks": ""
             }
            },
            "type": "scattergeo"
           }
          ],
          "scattergl": [
           {
            "marker": {
             "colorbar": {
              "outlinewidth": 0,
              "ticks": ""
             }
            },
            "type": "scattergl"
           }
          ],
          "scattermapbox": [
           {
            "marker": {
             "colorbar": {
              "outlinewidth": 0,
              "ticks": ""
             }
            },
            "type": "scattermapbox"
           }
          ],
          "scatterpolar": [
           {
            "marker": {
             "colorbar": {
              "outlinewidth": 0,
              "ticks": ""
             }
            },
            "type": "scatterpolar"
           }
          ],
          "scatterpolargl": [
           {
            "marker": {
             "colorbar": {
              "outlinewidth": 0,
              "ticks": ""
             }
            },
            "type": "scatterpolargl"
           }
          ],
          "scatterternary": [
           {
            "marker": {
             "colorbar": {
              "outlinewidth": 0,
              "ticks": ""
             }
            },
            "type": "scatterternary"
           }
          ],
          "surface": [
           {
            "colorbar": {
             "outlinewidth": 0,
             "ticks": ""
            },
            "colorscale": [
             [
              0,
              "#0d0887"
             ],
             [
              0.1111111111111111,
              "#46039f"
             ],
             [
              0.2222222222222222,
              "#7201a8"
             ],
             [
              0.3333333333333333,
              "#9c179e"
             ],
             [
              0.4444444444444444,
              "#bd3786"
             ],
             [
              0.5555555555555556,
              "#d8576b"
             ],
             [
              0.6666666666666666,
              "#ed7953"
             ],
             [
              0.7777777777777778,
              "#fb9f3a"
             ],
             [
              0.8888888888888888,
              "#fdca26"
             ],
             [
              1,
              "#f0f921"
             ]
            ],
            "type": "surface"
           }
          ],
          "table": [
           {
            "cells": {
             "fill": {
              "color": "#EBF0F8"
             },
             "line": {
              "color": "white"
             }
            },
            "header": {
             "fill": {
              "color": "#C8D4E3"
             },
             "line": {
              "color": "white"
             }
            },
            "type": "table"
           }
          ]
         },
         "layout": {
          "annotationdefaults": {
           "arrowcolor": "#2a3f5f",
           "arrowhead": 0,
           "arrowwidth": 1
          },
          "autotypenumbers": "strict",
          "coloraxis": {
           "colorbar": {
            "outlinewidth": 0,
            "ticks": ""
           }
          },
          "colorscale": {
           "diverging": [
            [
             0,
             "#8e0152"
            ],
            [
             0.1,
             "#c51b7d"
            ],
            [
             0.2,
             "#de77ae"
            ],
            [
             0.3,
             "#f1b6da"
            ],
            [
             0.4,
             "#fde0ef"
            ],
            [
             0.5,
             "#f7f7f7"
            ],
            [
             0.6,
             "#e6f5d0"
            ],
            [
             0.7,
             "#b8e186"
            ],
            [
             0.8,
             "#7fbc41"
            ],
            [
             0.9,
             "#4d9221"
            ],
            [
             1,
             "#276419"
            ]
           ],
           "sequential": [
            [
             0,
             "#0d0887"
            ],
            [
             0.1111111111111111,
             "#46039f"
            ],
            [
             0.2222222222222222,
             "#7201a8"
            ],
            [
             0.3333333333333333,
             "#9c179e"
            ],
            [
             0.4444444444444444,
             "#bd3786"
            ],
            [
             0.5555555555555556,
             "#d8576b"
            ],
            [
             0.6666666666666666,
             "#ed7953"
            ],
            [
             0.7777777777777778,
             "#fb9f3a"
            ],
            [
             0.8888888888888888,
             "#fdca26"
            ],
            [
             1,
             "#f0f921"
            ]
           ],
           "sequentialminus": [
            [
             0,
             "#0d0887"
            ],
            [
             0.1111111111111111,
             "#46039f"
            ],
            [
             0.2222222222222222,
             "#7201a8"
            ],
            [
             0.3333333333333333,
             "#9c179e"
            ],
            [
             0.4444444444444444,
             "#bd3786"
            ],
            [
             0.5555555555555556,
             "#d8576b"
            ],
            [
             0.6666666666666666,
             "#ed7953"
            ],
            [
             0.7777777777777778,
             "#fb9f3a"
            ],
            [
             0.8888888888888888,
             "#fdca26"
            ],
            [
             1,
             "#f0f921"
            ]
           ]
          },
          "colorway": [
           "#636efa",
           "#EF553B",
           "#00cc96",
           "#ab63fa",
           "#FFA15A",
           "#19d3f3",
           "#FF6692",
           "#B6E880",
           "#FF97FF",
           "#FECB52"
          ],
          "font": {
           "color": "#2a3f5f"
          },
          "geo": {
           "bgcolor": "white",
           "lakecolor": "white",
           "landcolor": "#E5ECF6",
           "showlakes": true,
           "showland": true,
           "subunitcolor": "white"
          },
          "hoverlabel": {
           "align": "left"
          },
          "hovermode": "closest",
          "mapbox": {
           "style": "light"
          },
          "paper_bgcolor": "white",
          "plot_bgcolor": "#E5ECF6",
          "polar": {
           "angularaxis": {
            "gridcolor": "white",
            "linecolor": "white",
            "ticks": ""
           },
           "bgcolor": "#E5ECF6",
           "radialaxis": {
            "gridcolor": "white",
            "linecolor": "white",
            "ticks": ""
           }
          },
          "scene": {
           "xaxis": {
            "backgroundcolor": "#E5ECF6",
            "gridcolor": "white",
            "gridwidth": 2,
            "linecolor": "white",
            "showbackground": true,
            "ticks": "",
            "zerolinecolor": "white"
           },
           "yaxis": {
            "backgroundcolor": "#E5ECF6",
            "gridcolor": "white",
            "gridwidth": 2,
            "linecolor": "white",
            "showbackground": true,
            "ticks": "",
            "zerolinecolor": "white"
           },
           "zaxis": {
            "backgroundcolor": "#E5ECF6",
            "gridcolor": "white",
            "gridwidth": 2,
            "linecolor": "white",
            "showbackground": true,
            "ticks": "",
            "zerolinecolor": "white"
           }
          },
          "shapedefaults": {
           "line": {
            "color": "#2a3f5f"
           }
          },
          "ternary": {
           "aaxis": {
            "gridcolor": "white",
            "linecolor": "white",
            "ticks": ""
           },
           "baxis": {
            "gridcolor": "white",
            "linecolor": "white",
            "ticks": ""
           },
           "bgcolor": "#E5ECF6",
           "caxis": {
            "gridcolor": "white",
            "linecolor": "white",
            "ticks": ""
           }
          },
          "title": {
           "x": 0.05
          },
          "xaxis": {
           "automargin": true,
           "gridcolor": "white",
           "linecolor": "white",
           "ticks": "",
           "title": {
            "standoff": 15
           },
           "zerolinecolor": "white",
           "zerolinewidth": 2
          },
          "yaxis": {
           "automargin": true,
           "gridcolor": "white",
           "linecolor": "white",
           "ticks": "",
           "title": {
            "standoff": 15
           },
           "zerolinecolor": "white",
           "zerolinewidth": 2
          }
         }
        },
        "xaxis": {
         "anchor": "y",
         "autorange": true,
         "domain": [
          0,
          1
         ],
         "range": [
          0,
          54
         ],
         "title": {
          "text": "Years on x axis; relative frequency of sentences with a technology and emotional keyword on y axis"
         },
         "type": "category"
        },
        "yaxis": {
         "anchor": "x",
         "autorange": true,
         "domain": [
          0,
          1
         ],
         "range": [
          -0.0011111111111111111,
          0.021111111111111112
         ],
         "title": {
          "text": "Relative value"
         },
         "type": "linear"
        }
       }
      },
      "image/png": "[encoded data removed]",
      "text/html": [
       "<div>                            <div id=\"bcc79336-e0a9-4560-ad0f-3243a0f84df6\" class=\"plotly-graph-div\" style=\"height:525px; width:100%;\"></div>            <script type=\"text/javascript\">                require([\"plotly\"], function(Plotly) {                    window.PLOTLYENV=window.PLOTLYENV || {};                                    if (document.getElementById(\"bcc79336-e0a9-4560-ad0f-3243a0f84df6\")) {                    Plotly.newPlot(                        \"bcc79336-e0a9-4560-ad0f-3243a0f84df6\",                        [{\"customdata\":[[\"Balzac Balzac Balzac Balzac\",\"Splendeurs et miseres des courtisanes 1 Esther heureuse Splendeurs et miseres des courtisanes 2 A combien l amour revient aux vieillards Splendeurs et miseres des courtisanes 3 Ou menent les mauvais chemins Splendeurs et miseres des courtisanes 4 La derniere incarnation de Vautrin\"],[\"Balzac Sue\",\"La Rabouilleuse Les Mysteres de Paris\"],[\"Dumas Dumas\",\"Le Compte de Monte Cristo Les Trois Mousquetaires\"],[\"Balzac\",\"La Cousine Bette\"],[\"Balzac\",\"Le Cousin Pons\"],[\"Dumas\",\"La Dame aux camelias\"],[\"Kock\",\"Madeleine\"],[\"Feval\",\"Les Nuits de Paris Premiere nuit Gaulois et Romains\"],[\"Balzac\",\"Albert Savarus\"],[\"Blondel\",\"Elise ou leducation particuliere\"],[\"Dickens\",\"Le conte des deux cités\"],[\"Hugo\",\"Les Misérables\"],[\"Gautier\",\"Le Capitaine Fracasse\"],[\"Zola\",\"Thérèse Raquin\"],[\"Baudelaire Flaubert\",\"Le spleen de Paris L éducation sentimentale\"],[\"Zola\",\"La Bête humaine\"],[\"Zola Zola\",\"La Curée La Fortune des Rougon\"],[\"Zola\",\"Le Ventre de Paris\"],[\"Zola Zola\",\"L Assommoir Son Excellence Eugène Rougon\"],[\"James James\",\"L Américain à Paris tome 1 L Américain à Paris tome 2\"],[\"Zola\",\"Une page d amour\"],[\"Daudet Zola\",\"Les rois en exil Nana\"],[\"Feval\",\"Les Errants de la nuit\"],[\"Flaubert Maupassant\",\"Bouvard et Pécuchet La Maison Tellier\"],[\"Zola\",\"Pot-bouille\"],[\"Maupassant Maupassant Mirbeau Zola\",\"Claire de Lune Une vie La Marechale Au bonheur des dames\"],[\"Huysmans Maupassant Maupassant Rachilde Zola\",\"A rebours La parure Miss Harriet Monsieur Vénus La Joie de vivre\"],[\"Daudet Laforgue Maupassant Maupassant\",\"Le Soutien de Famille Les complaintes Bel ami édition 1901 Contes du jour et de la nuit\"],[\"Zola\",\"L oeuvre\"],[\"Zola\",\"Le Rêve\"],[\"Bourget Vallès\",\"Le disciple L Enfant\"],[\"Huysmans Zola\",\"Là-bas L Argent\"],[\"Zola\",\"La Débâcle\"],[\"Zola\",\"Le Docteur Pascal\"],[\"France\",\"Le Lys rouge\"],[\"Huysmans\",\"En route\"],[\"Huysmans Proust\",\"La cathédrale Les Plaisirs et les jours\"],[\"Colette France Zola\",\"Claudine à Paris Histoire contemporaine IV Monsieur Bergeret à Paris Travail\"],[\"Tinayre\",\"La Maison du péché\"],[\"Bovet\",\"Autour de l'étendard\"],[\"Vivien\",\"Une Femme m'apparut\"],[\"Tinayre\",\"La Rebelle\"],[\"Colette\",\"La Retraite sentimentale\"],[\"Vallés\",\"L Insurgé\"],[\"Colette Vallés\",\"L Ingénue libertine Le Bachelier\"],[\"Audoux Colette Delarue Maupassant\",\"Marie-Claire La Vagabonde Mardrus Comme tout le monde Les Dimanches d un bourgeois à Paris\"],[\"Daudet\",\"Rose et Ninette\"],[\"Fournier Proust\",\"Le Grand Meaulnes Du côté de chez Swann\"],[\"Barbusse\",\"Le Feu\"],[\"Bourget Delarue_Mardrus Proust\",\"Laurence Albani Toutoune et son amour lombre des jeunes filles en fleurs\"],[\"Proust\",\"Le Cote de Guermantes\"],[\"Proust\",\"La Prisonniere\"],[\"Proust\",\"Sodome et Gomorrhe\"],[\"Gide Leroux Proust\",\"Les Faux monnayeurs La Reine du Sabbat Albertine disparue\"],[\"Proust\",\"Le Temps retrouve\"]],\"hovertemplate\":\"year=%{x}\\u003cbr\\u003erelative frequency=%{y}\\u003cbr\\u003eauthor=%{customdata[0]}\\u003cbr\\u003etitle=%{customdata[1]}\\u003cextra\\u003e\\u003c\\u002fextra\\u003e\",\"legendgroup\":\"\",\"line\":{\"color\":\"#636efa\",\"dash\":\"solid\"},\"marker\":{\"symbol\":\"circle\"},\"mode\":\"lines\",\"name\":\"\",\"orientation\":\"v\",\"showlegend\":false,\"x\":[\"1838\",\"1842\",\"1844\",\"1846\",\"1847\",\"1848\",\"1849\",\"1852\",\"1853\",\"1856\",\"1859\",\"1862\",\"1863\",\"1867\",\"1869\",\"1870\",\"1871\",\"1873\",\"1876\",\"1877\",\"1878\",\"1879\",\"1880\",\"1881\",\"1882\",\"1883\",\"1884\",\"1885\",\"1886\",\"1888\",\"1889\",\"1891\",\"1892\",\"1893\",\"1894\",\"1895\",\"1898\",\"1901\",\"1902\",\"1904\",\"1905\",\"1906\",\"1907\",\"1908\",\"1909\",\"1910\",\"1911\",\"1913\",\"1916\",\"1919\",\"1920\",\"1923\",\"1924\",\"1925\",\"1927\"],\"xaxis\":\"x\",\"y\":[0.003,0.004,0.002,0.002,0.004,0.0,0.0,0.004,0.006,0.002,0.002,0.003,0.007,0.001,0.008,0.007,0.004,0.004,0.003,0.001,0.004,0.005,0.003,0.002,0.003,0.002,0.005,0.005,0.006,0.002,0.002,0.003,0.003,0.003,0.002,0.013,0.01,0.005,0.009,0.001,0.002,0.015,0.012,0.005,0.002,0.002,0.02,0.011,0.004,0.004,0.004,0.007,0.003,0.004,0.006],\"yaxis\":\"y\",\"type\":\"scatter\"}],                        {\"template\":{\"data\":{\"histogram2dcontour\":[{\"type\":\"histogram2dcontour\",\"colorbar\":{\"outlinewidth\":0,\"ticks\":\"\"},\"colorscale\":[[0.0,\"#0d0887\"],[0.1111111111111111,\"#46039f\"],[0.2222222222222222,\"#7201a8\"],[0.3333333333333333,\"#9c179e\"],[0.4444444444444444,\"#bd3786\"],[0.5555555555555556,\"#d8576b\"],[0.6666666666666666,\"#ed7953\"],[0.7777777777777778,\"#fb9f3a\"],[0.8888888888888888,\"#fdca26\"],[1.0,\"#f0f921\"]]}],\"choropleth\":[{\"type\":\"choropleth\",\"colorbar\":{\"outlinewidth\":0,\"ticks\":\"\"}}],\"histogram2d\":[{\"type\":\"histogram2d\",\"colorbar\":{\"outlinewidth\":0,\"ticks\":\"\"},\"colorscale\":[[0.0,\"#0d0887\"],[0.1111111111111111,\"#46039f\"],[0.2222222222222222,\"#7201a8\"],[0.3333333333333333,\"#9c179e\"],[0.4444444444444444,\"#bd3786\"],[0.5555555555555556,\"#d8576b\"],[0.6666666666666666,\"#ed7953\"],[0.7777777777777778,\"#fb9f3a\"],[0.8888888888888888,\"#fdca26\"],[1.0,\"#f0f921\"]]}],\"heatmap\":[{\"type\":\"heatmap\",\"colorbar\":{\"outlinewidth\":0,\"ticks\":\"\"},\"colorscale\":[[0.0,\"#0d0887\"],[0.1111111111111111,\"#46039f\"],[0.2222222222222222,\"#7201a8\"],[0.3333333333333333,\"#9c179e\"],[0.4444444444444444,\"#bd3786\"],[0.5555555555555556,\"#d8576b\"],[0.6666666666666666,\"#ed7953\"],[0.7777777777777778,\"#fb9f3a\"],[0.8888888888888888,\"#fdca26\"],[1.0,\"#f0f921\"]]}],\"heatmapgl\":[{\"type\":\"heatmapgl\",\"colorbar\":{\"outlinewidth\":0,\"ticks\":\"\"},\"colorscale\":[[0.0,\"#0d0887\"],[0.1111111111111111,\"#46039f\"],[0.2222222222222222,\"#7201a8\"],[0.3333333333333333,\"#9c179e\"],[0.4444444444444444,\"#bd3786\"],[0.5555555555555556,\"#d8576b\"],[0.6666666666666666,\"#ed7953\"],[0.7777777777777778,\"#fb9f3a\"],[0.8888888888888888,\"#fdca26\"],[1.0,\"#f0f921\"]]}],\"contourcarpet\":[{\"type\":\"contourcarpet\",\"colorbar\":{\"outlinewidth\":0,\"ticks\":\"\"}}],\"contour\":[{\"type\":\"contour\",\"colorbar\":{\"outlinewidth\":0,\"ticks\":\"\"},\"colorscale\":[[0.0,\"#0d0887\"],[0.1111111111111111,\"#46039f\"],[0.2222222222222222,\"#7201a8\"],[0.3333333333333333,\"#9c179e\"],[0.4444444444444444,\"#bd3786\"],[0.5555555555555556,\"#d8576b\"],[0.6666666666666666,\"#ed7953\"],[0.7777777777777778,\"#fb9f3a\"],[0.8888888888888888,\"#fdca26\"],[1.0,\"#f0f921\"]]}],\"surface\":[{\"type\":\"surface\",\"colorbar\":{\"outlinewidth\":0,\"ticks\":\"\"},\"colorscale\":[[0.0,\"#0d0887\"],[0.1111111111111111,\"#46039f\"],[0.2222222222222222,\"#7201a8\"],[0.3333333333333333,\"#9c179e\"],[0.4444444444444444,\"#bd3786\"],[0.5555555555555556,\"#d8576b\"],[0.6666666666666666,\"#ed7953\"],[0.7777777777777778,\"#fb9f3a\"],[0.8888888888888888,\"#fdca26\"],[1.0,\"#f0f921\"]]}],\"mesh3d\":[{\"type\":\"mesh3d\",\"colorbar\":{\"outlinewidth\":0,\"ticks\":\"\"}}],\"scatter\":[{\"fillpattern\":{\"fillmode\":\"overlay\",\"size\":10,\"solidity\":0.2},\"type\":\"scatter\"}],\"parcoords\":[{\"type\":\"parcoords\",\"line\":{\"colorbar\":{\"outlinewidth\":0,\"ticks\":\"\"}}}],\"scatterpolargl\":[{\"type\":\"scatterpolargl\",\"marker\":{\"colorbar\":{\"outlinewidth\":0,\"ticks\":\"\"}}}],\"bar\":[{\"error_x\":{\"color\":\"#2a3f5f\"},\"error_y\":{\"color\":\"#2a3f5f\"},\"marker\":{\"line\":{\"color\":\"#E5ECF6\",\"width\":0.5},\"pattern\":{\"fillmode\":\"overlay\",\"size\":10,\"solidity\":0.2}},\"type\":\"bar\"}],\"scattergeo\":[{\"type\":\"scattergeo\",\"marker\":{\"colorbar\":{\"outlinewidth\":0,\"ticks\":\"\"}}}],\"scatterpolar\":[{\"type\":\"scatterpolar\",\"marker\":{\"colorbar\":{\"outlinewidth\":0,\"ticks\":\"\"}}}],\"histogram\":[{\"marker\":{\"pattern\":{\"fillmode\":\"overlay\",\"size\":10,\"solidity\":0.2}},\"type\":\"histogram\"}],\"scattergl\":[{\"type\":\"scattergl\",\"marker\":{\"colorbar\":{\"outlinewidth\":0,\"ticks\":\"\"}}}],\"scatter3d\":[{\"type\":\"scatter3d\",\"line\":{\"colorbar\":{\"outlinewidth\":0,\"ticks\":\"\"}},\"marker\":{\"colorbar\":{\"outlinewidth\":0,\"ticks\":\"\"}}}],\"scattermapbox\":[{\"type\":\"scattermapbox\",\"marker\":{\"colorbar\":{\"outlinewidth\":0,\"ticks\":\"\"}}}],\"scatterternary\":[{\"type\":\"scatterternary\",\"marker\":{\"colorbar\":{\"outlinewidth\":0,\"ticks\":\"\"}}}],\"scattercarpet\":[{\"type\":\"scattercarpet\",\"marker\":{\"colorbar\":{\"outlinewidth\":0,\"ticks\":\"\"}}}],\"carpet\":[{\"aaxis\":{\"endlinecolor\":\"#2a3f5f\",\"gridcolor\":\"white\",\"linecolor\":\"white\",\"minorgridcolor\":\"white\",\"startlinecolor\":\"#2a3f5f\"},\"baxis\":{\"endlinecolor\":\"#2a3f5f\",\"gridcolor\":\"white\",\"linecolor\":\"white\",\"minorgridcolor\":\"white\",\"startlinecolor\":\"#2a3f5f\"},\"type\":\"carpet\"}],\"table\":[{\"cells\":{\"fill\":{\"color\":\"#EBF0F8\"},\"line\":{\"color\":\"white\"}},\"header\":{\"fill\":{\"color\":\"#C8D4E3\"},\"line\":{\"color\":\"white\"}},\"type\":\"table\"}],\"barpolar\":[{\"marker\":{\"line\":{\"color\":\"#E5ECF6\",\"width\":0.5},\"pattern\":{\"fillmode\":\"overlay\",\"size\":10,\"solidity\":0.2}},\"type\":\"barpolar\"}],\"pie\":[{\"automargin\":true,\"type\":\"pie\"}]},\"layout\":{\"autotypenumbers\":\"strict\",\"colorway\":[\"#636efa\",\"#EF553B\",\"#00cc96\",\"#ab63fa\",\"#FFA15A\",\"#19d3f3\",\"#FF6692\",\"#B6E880\",\"#FF97FF\",\"#FECB52\"],\"font\":{\"color\":\"#2a3f5f\"},\"hovermode\":\"closest\",\"hoverlabel\":{\"align\":\"left\"},\"paper_bgcolor\":\"white\",\"plot_bgcolor\":\"#E5ECF6\",\"polar\":{\"bgcolor\":\"#E5ECF6\",\"angularaxis\":{\"gridcolor\":\"white\",\"linecolor\":\"white\",\"ticks\":\"\"},\"radialaxis\":{\"gridcolor\":\"white\",\"linecolor\":\"white\",\"ticks\":\"\"}},\"ternary\":{\"bgcolor\":\"#E5ECF6\",\"aaxis\":{\"gridcolor\":\"white\",\"linecolor\":\"white\",\"ticks\":\"\"},\"baxis\":{\"gridcolor\":\"white\",\"linecolor\":\"white\",\"ticks\":\"\"},\"caxis\":{\"gridcolor\":\"white\",\"linecolor\":\"white\",\"ticks\":\"\"}},\"coloraxis\":{\"colorbar\":{\"outlinewidth\":0,\"ticks\":\"\"}},\"colorscale\":{\"sequential\":[[0.0,\"#0d0887\"],[0.1111111111111111,\"#46039f\"],[0.2222222222222222,\"#7201a8\"],[0.3333333333333333,\"#9c179e\"],[0.4444444444444444,\"#bd3786\"],[0.5555555555555556,\"#d8576b\"],[0.6666666666666666,\"#ed7953\"],[0.7777777777777778,\"#fb9f3a\"],[0.8888888888888888,\"#fdca26\"],[1.0,\"#f0f921\"]],\"sequentialminus\":[[0.0,\"#0d0887\"],[0.1111111111111111,\"#46039f\"],[0.2222222222222222,\"#7201a8\"],[0.3333333333333333,\"#9c179e\"],[0.4444444444444444,\"#bd3786\"],[0.5555555555555556,\"#d8576b\"],[0.6666666666666666,\"#ed7953\"],[0.7777777777777778,\"#fb9f3a\"],[0.8888888888888888,\"#fdca26\"],[1.0,\"#f0f921\"]],\"diverging\":[[0,\"#8e0152\"],[0.1,\"#c51b7d\"],[0.2,\"#de77ae\"],[0.3,\"#f1b6da\"],[0.4,\"#fde0ef\"],[0.5,\"#f7f7f7\"],[0.6,\"#e6f5d0\"],[0.7,\"#b8e186\"],[0.8,\"#7fbc41\"],[0.9,\"#4d9221\"],[1,\"#276419\"]]},\"xaxis\":{\"gridcolor\":\"white\",\"linecolor\":\"white\",\"ticks\":\"\",\"title\":{\"standoff\":15},\"zerolinecolor\":\"white\",\"automargin\":true,\"zerolinewidth\":2},\"yaxis\":{\"gridcolor\":\"white\",\"linecolor\":\"white\",\"ticks\":\"\",\"title\":{\"standoff\":15},\"zerolinecolor\":\"white\",\"automargin\":true,\"zerolinewidth\":2},\"scene\":{\"xaxis\":{\"backgroundcolor\":\"#E5ECF6\",\"gridcolor\":\"white\",\"linecolor\":\"white\",\"showbackground\":true,\"ticks\":\"\",\"zerolinecolor\":\"white\",\"gridwidth\":2},\"yaxis\":{\"backgroundcolor\":\"#E5ECF6\",\"gridcolor\":\"white\",\"linecolor\":\"white\",\"showbackground\":true,\"ticks\":\"\",\"zerolinecolor\":\"white\",\"gridwidth\":2},\"zaxis\":{\"backgroundcolor\":\"#E5ECF6\",\"gridcolor\":\"white\",\"linecolor\":\"white\",\"showbackground\":true,\"ticks\":\"\",\"zerolinecolor\":\"white\",\"gridwidth\":2}},\"shapedefaults\":{\"line\":{\"color\":\"#2a3f5f\"}},\"annotationdefaults\":{\"arrowcolor\":\"#2a3f5f\",\"arrowhead\":0,\"arrowwidth\":1},\"geo\":{\"bgcolor\":\"white\",\"landcolor\":\"#E5ECF6\",\"subunitcolor\":\"white\",\"showland\":true,\"showlakes\":true,\"lakecolor\":\"white\"},\"title\":{\"x\":0.05},\"mapbox\":{\"style\":\"light\"}}},\"xaxis\":{\"anchor\":\"y\",\"domain\":[0.0,1.0],\"title\":{\"text\":\"Years on x axis; relative frequency of sentences with a technology and emotional keyword on y axis\"}},\"yaxis\":{\"anchor\":\"x\",\"domain\":[0.0,1.0],\"title\":{\"text\":\"Relative value\"}},\"legend\":{\"tracegroupgap\":0},\"margin\":{\"t\":60}},                        {\"responsive\": true}                    ).then(function(){\n",
       "                            \n",
       "var gd = document.getElementById('bcc79336-e0a9-4560-ad0f-3243a0f84df6');\n",
       "var x = new MutationObserver(function (mutations, observer) {{\n",
       "        var display = window.getComputedStyle(gd).display;\n",
       "        if (!display || display === 'none') {{\n",
       "            console.log([gd, 'removed!']);\n",
       "            Plotly.purge(gd);\n",
       "            observer.disconnect();\n",
       "        }}\n",
       "}});\n",
       "\n",
       "// Listen for the removal of the full notebook cells\n",
       "var notebookContainer = gd.closest('#notebook-container');\n",
       "if (notebookContainer) {{\n",
       "    x.observe(notebookContainer, {childList: true});\n",
       "}}\n",
       "\n",
       "// Listen for the clearing of the current output cell\n",
       "var outputEl = gd.closest('.output');\n",
       "if (outputEl) {{\n",
       "    x.observe(outputEl, {childList: true});\n",
       "}}\n",
       "\n",
       "                        })                };                });            </script>        </div>"
      ]
     },
     "metadata": {},
     "output_type": "display_data"
    }
   ],
   "source": [
    "import plotly.express as px\n",
    "\n",
    "x_var = 'year'\n",
    "y_var = 'relative frequency'\n",
    "\n",
    "\n",
    "fig = px.line(data_out, \n",
    "            x = x_var, \n",
    "            y = y_var,\n",
    "            hover_data=['author','title', 'year', 'relative frequency'])\n",
    "             \n",
    "# Update x-axis label\n",
    "fig.update_xaxes(title_text='Years on x axis; relative frequency of sentences with a technology and emotional keyword on y axis')\n",
    "\n",
    "# Update y-axis label\n",
    "fig.update_yaxes(title_text='Relative value') \n",
    "print ('\\nThe presens of sentences with lighting technologies and sensational words')\n",
    "fig.show()"
   ]
  },
  {
   "cell_type": "code",
   "execution_count": 34,
   "id": "b079a201",
   "metadata": {},
   "outputs": [
    {
     "data": {
      "text/plain": [
       "3643779"
      ]
     },
     "execution_count": 34,
     "metadata": {},
     "output_type": "execute_result"
    }
   ],
   "source": [
    "import plotly.io as io\n",
    "\n",
    "html_snippet_start = '<!DOCTYPE html> <html> <head> <title>Title</title> </head> <body>' \n",
    "html_snippet_end = ' </body></html> '\n",
    "\n",
    "html_as_string = io.to_html(fig, full_html=False)\n",
    "\n",
    "vis_in_html = html_snippet_start + html_as_string + html_snippet_end\n",
    "\n",
    "of = open(r'C:\\Users\\lakj\\Documents\\GitHub\\Light_in_French_Literature\\visualisations\\emo_in_light_sent2_years_vs_rfeq.htm', 'w', encoding='utf-8-sig')\n",
    "of.write(vis_in_html)"
   ]
  },
  {
   "cell_type": "code",
   "execution_count": null,
   "id": "2a8d2579",
   "metadata": {},
   "outputs": [],
   "source": []
  }
 ],
 "metadata": {
  "kernelspec": {
   "display_name": "Python 3 (ipykernel)",
   "language": "python",
   "name": "python3"
  },
  "language_info": {
   "codemirror_mode": {
    "name": "ipython",
    "version": 3
   },
   "file_extension": ".py",
   "mimetype": "text/x-python",
   "name": "python",
   "nbconvert_exporter": "python",
   "pygments_lexer": "ipython3",
   "version": "3.12.4"
  }
 },
 "nbformat": 4,
 "nbformat_minor": 5
}
