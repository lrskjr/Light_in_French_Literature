{
 "cells": [
  {
   "cell_type": "code",
   "execution_count": 4,
   "id": "959ebb69",
   "metadata": {
    "scrolled": true
   },
   "outputs": [
    {
     "name": "stdout",
     "output_type": "stream",
     "text": [
      "3290\n",
      "['\"ampoule caresse\"~5', '\"ampoule voix\"~5', '\"ampoule éblouir\"~5', '\"ampoule agonie\"~5', '\"ampoule las\"~5', '\"ampoule sentiment\"~5', '\"ampoule inquiétant\"~5', '\"ampoule attendri\"~5', '\"ampoule craindre\"~5', '\"ampoule bouleverser\"~5', '\"ampoule fiévreux\"~5', '\"ampoule insomnie\"~5', '\"ampoule étouffement\"~5', '\"ampoule volupté\"~5', '\"ampoule souffrance\"~5', '\"ampoule confus\"~5', '\"ampoule sensation\"~5', '\"ampoule remords\"~5', '\"ampoule désir\"~5', '\"ampoule chagrin\"~5', '\"ampoule caressant\"~5', '\"ampoule étourdi\"~5', '\"ampoule fatigant\"~5', '\"ampoule heureux\"~5', '\"ampoule détresse\"~5', '\"ampoule éblouissant\"~5', '\"ampoule doucement\"~5', '\"ampoule excité\"~5', '\"ampoule entendre\"~5', '\"ampoule grelotter\"~5']\n"
     ]
    }
   ],
   "source": [
    "from pathlib import Path\n",
    "import re\n",
    "\n",
    "#### Read two lists of keywords - technology and emotion keywords ####\n",
    "\n",
    "# path to keyword lists directory \n",
    "input_dir = Path.cwd() / '../data/key_word_lists' \n",
    "\n",
    "\n",
    "# get the tech words\n",
    "key_word_file_name = 'technology_list.txt'\n",
    "with open(input_dir / key_word_file_name, 'r', encoding='utf-8-sig') as file:\n",
    "    tech_key_words = file.read().split('\\n')\n",
    "    \n",
    "# get the emo words    \n",
    "key_word_file_name = 'sensation_list.txt'\n",
    "with open(input_dir / key_word_file_name, 'r', encoding='utf-8-sig') as file:\n",
    "    sensation_key_words = file.read().split('\\n')\n",
    "\n",
    "    \n",
    "def generate_keyword_combinations(list1, list2, value):\n",
    "    combinations = []\n",
    "    for keyword1 in list1:\n",
    "        for keyword2 in list2:\n",
    "            combination = f'\"{keyword1} {keyword2}\"~{value}'\n",
    "            combinations.append(combination)\n",
    "    return combinations\n",
    "\n",
    "# Adjust the list1, list2, window_size, and text variables to match your requirements and data.\n",
    "# The output format is \"keyword1 keyword2\"~5 where 5 represents the window size value.\n",
    "\n",
    "value = 5\n",
    "combinations = generate_keyword_combinations(tech_key_words, sensation_key_words, value)\n",
    "print (len(combinations))\n",
    "print (combinations[1160:1190])"
   ]
  },
  {
   "cell_type": "markdown",
   "id": "18ee0545",
   "metadata": {},
   "source": [
    "List of positive results - ready to copy / paste into Spyral Trends tool.\n",
    "\n",
    "['\"ampoule caresse\"~15', '\"ampoule voix\"~15', '\"ampoule éblouir\"~15', '\"ampoule agonie\"~15', '\"ampoule las\"~15', '\"ampoule sentiment\"~15', '\"ampoule inquiétant\"~15', '\"ampoule attendri\"~15', '\"ampoule craindre\"~15', '\"ampoule bouleverser\"~15', '\"ampoule fiévreux\"~15', '\"ampoule insomnie\"~15', '\"ampoule étouffement\"~15', '\"ampoule volupté\"~15', '\"ampoule souffrance\"~15', '\"ampoule confus\"~15', '\"ampoule sensation\"~15', '\"ampoule remords\"~15', '\"ampoule désir\"~15', '\"ampoule chagrin\"~15', '\"ampoule caressant\"~15', '\"ampoule étourdi\"~15', '\"ampoule fatigant\"~15', '\"ampoule heureux\"~15', '\"ampoule détresse\"~15', '\"ampoule éblouissant\"~15', '\"ampoule doucement\"~15', '\"ampoule excité\"~15', '\"ampoule entendre\"~15', '\"ampoule grelotter\"~15']"
   ]
  },
  {
   "cell_type": "code",
   "execution_count": 2,
   "id": "b9504b3b",
   "metadata": {},
   "outputs": [
    {
     "data": {
      "text/plain": [
       "30"
      ]
     },
     "execution_count": 2,
     "metadata": {},
     "output_type": "execute_result"
    }
   ],
   "source": [
    "positive_results = ['\"ampoule caresse\"~15', '\"ampoule voix\"~15', '\"ampoule éblouir\"~15', '\"ampoule agonie\"~15', '\"ampoule las\"~15', '\"ampoule sentiment\"~15', '\"ampoule inquiétant\"~15', '\"ampoule attendri\"~15', '\"ampoule craindre\"~15', '\"ampoule bouleverser\"~15', '\"ampoule fiévreux\"~15', '\"ampoule insomnie\"~15', '\"ampoule étouffement\"~15', '\"ampoule volupté\"~15', '\"ampoule souffrance\"~15', '\"ampoule confus\"~15', '\"ampoule sensation\"~15', '\"ampoule remords\"~15', '\"ampoule désir\"~15', '\"ampoule chagrin\"~15', '\"ampoule caressant\"~15', '\"ampoule étourdi\"~15', '\"ampoule fatigant\"~15', '\"ampoule heureux\"~15', '\"ampoule détresse\"~15', '\"ampoule éblouissant\"~15', '\"ampoule doucement\"~15', '\"ampoule excité\"~15', '\"ampoule entendre\"~15', '\"ampoule grelotter\"~15']\n",
    "len (positive_results)"
   ]
  },
  {
   "cell_type": "code",
   "execution_count": null,
   "id": "763a4d92",
   "metadata": {},
   "outputs": [],
   "source": []
  }
 ],
 "metadata": {
  "kernelspec": {
   "display_name": "Python 3 (ipykernel)",
   "language": "python",
   "name": "python3"
  },
  "language_info": {
   "codemirror_mode": {
    "name": "ipython",
    "version": 3
   },
   "file_extension": ".py",
   "mimetype": "text/x-python",
   "name": "python",
   "nbconvert_exporter": "python",
   "pygments_lexer": "ipython3",
   "version": "3.9.21"
  }
 },
 "nbformat": 4,
 "nbformat_minor": 5
}
