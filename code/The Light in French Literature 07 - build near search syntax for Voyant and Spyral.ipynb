{
 "cells": [
  {
   "cell_type": "code",
   "execution_count": 1,
   "id": "959ebb69",
   "metadata": {
    "scrolled": true
   },
   "outputs": [
    {
     "name": "stdout",
     "output_type": "stream",
     "text": [
      "3290\n",
      "['\"ampoule caresse\"~5', '\"ampoule voix\"~5', '\"ampoule éblouir\"~5', '\"ampoule agonie\"~5', '\"ampoule las\"~5', '\"ampoule sentiment\"~5', '\"ampoule inquiétant\"~5', '\"ampoule attendri\"~5', '\"ampoule craindre\"~5', '\"ampoule bouleverser\"~5', '\"ampoule fiévreux\"~5', '\"ampoule insomnie\"~5', '\"ampoule étouffement\"~5', '\"ampoule volupté\"~5', '\"ampoule souffrance\"~5', '\"ampoule confus\"~5', '\"ampoule sensation\"~5', '\"ampoule remords\"~5', '\"ampoule désir\"~5', '\"ampoule chagrin\"~5', '\"ampoule caressant\"~5', '\"ampoule étourdi\"~5', '\"ampoule fatigant\"~5', '\"ampoule heureux\"~5', '\"ampoule détresse\"~5', '\"ampoule éblouissant\"~5', '\"ampoule doucement\"~5', '\"ampoule excité\"~5', '\"ampoule entendre\"~5', '\"ampoule grelotter\"~5']\n"
     ]
    }
   ],
   "source": [
    "from pathlib import Path\n",
    "import re\n",
    "\n",
    "#### Read two lists of keywords - technology and emotion keywords ####\n",
    "\n",
    "# path to keyword lists directory \n",
    "input_dir = Path.cwd() / '../data/key_word_lists' \n",
    "\n",
    "\n",
    "# get the tech words\n",
    "key_word_file_name = 'technology_list.txt'\n",
    "with open(input_dir / key_word_file_name, 'r', encoding='utf-8-sig') as file:\n",
    "    tech_key_words = file.read().split('\\n')\n",
    "    \n",
    "# get the emo words    \n",
    "key_word_file_name = 'sensation_list.txt'\n",
    "with open(input_dir / key_word_file_name, 'r', encoding='utf-8-sig') as file:\n",
    "    sensation_key_words = file.read().split('\\n')\n",
    "\n",
    "    \n",
    "def generate_keyword_combinations(list1, list2, value):\n",
    "    combinations = []\n",
    "    for keyword1 in list1:\n",
    "        for keyword2 in list2:\n",
    "            combination = f'\"{keyword1} {keyword2}\"~{value}'\n",
    "            combinations.append(combination)\n",
    "    return combinations\n",
    "\n",
    "# Adjust the list1, list2, window_size, and text variables to match your requirements and data.\n",
    "# The output format is \"keyword1 keyword2\"~5 where 5 represents the window size value.\n",
    "\n",
    "value = 5\n",
    "combinations = generate_keyword_combinations(tech_key_words, sensation_key_words, value)\n",
    "print (len(combinations))\n",
    "print (combinations[1160:1190])"
   ]
  },
  {
   "cell_type": "markdown",
   "id": "18ee0545",
   "metadata": {},
   "source": [
    "List of positive results - ready to copy / paste into Spyral Trends tool.\n",
    "\n",
    "['\"chandelle voix\"~5', '\"chandelle éblouissant\"~5', '\"chandelle doucement\"~5', '\"flambeau doux\"~5', '\"flambeau désir\"~5', '\"gaz voix\"~5', '\"gaz las\"~5', '\"lampe doux\"~5', '\"lampe voix\"~5', '\"lampe agonie\"~5', '\"lampe doucement\"~5', '\"lampe détresse\"~5', '\"lampe heureux\"~5', '\"lanterne voix\"~5', '\"lanterne remords\"~5', '\"lanterne entendre\"~5', '\"veilleuse voix\"~5', '\"bougie voix\"~5', '\"bougie doucement\"~5', '\"bougie chagrin\"~5', '\"phare voix\"~5', '\"bougeoir doucement\"~5', '\"lustre voix\"~5', '\"lustre éblouissant\"~5', '\"torche désir\"~5', '\"électrique sentiment\"~5', '\"lumière caresse\"~5', '\"lumière entendre\"~5', '\"lumière sensation\"~5', '\"lumière heureux\"~5', '\"lumière tendresse\"~5', '\"lumière voix\"~5', '\"lumière doux\"~5', '\"lumière doucement\"~5', '\"lumière vertige\"~5', '\"lumière chagrin\"~5', '\"lumière craindre\"~5', '\"lumière agonie\"~5', '\"lumière heurt\"~5', '\"lumière sentiment\"~5', '\"lumière las\"~5', '\"tige désir\"~5', '\"ampoule heureux\"~5', '\"foyer souffrance\"~5', '\"foyer doux\"~5', '\"foyer tendresse\"~5', '\"foyer voix\"~5', '\"foyer agonie\"~5', '\"foyer doucement\"~5', '\"foyer caressant\"~5', '\"foyer heureux\"~5', '\"feu fatigant\"~5', '\"feu fiévreux\"~5', '\"feu doucement\"~5', '\"feu volupté\"~5', '\"feu sentir\"~5', '\"feu voix\"~5', '\"feu doux\"~5', '\"feu désir\"~5', '\"feu chagrin\"~5', '\"feu agonie\"~5', '\"feu sensation\"~5', '\"feu sentiment\"~5', '\"feu détresse\"~5', '\"feu heureux\"~5', '\"feu remords\"~5', '\"feu las\"~5', '\"feu souffrance\"~5']"
   ]
  },
  {
   "cell_type": "code",
   "execution_count": 2,
   "id": "b9504b3b",
   "metadata": {},
   "outputs": [
    {
     "data": {
      "text/plain": [
       "68"
      ]
     },
     "execution_count": 2,
     "metadata": {},
     "output_type": "execute_result"
    }
   ],
   "source": [
    "positive_results = ['\"chandelle voix\"~5', '\"chandelle éblouissant\"~5', '\"chandelle doucement\"~5', '\"flambeau doux\"~5', '\"flambeau désir\"~5', '\"gaz voix\"~5', '\"gaz las\"~5', '\"lampe doux\"~5', '\"lampe voix\"~5', '\"lampe agonie\"~5', '\"lampe doucement\"~5', '\"lampe détresse\"~5', '\"lampe heureux\"~5', '\"lanterne voix\"~5', '\"lanterne remords\"~5', '\"lanterne entendre\"~5', '\"veilleuse voix\"~5', '\"bougie voix\"~5', '\"bougie doucement\"~5', '\"bougie chagrin\"~5', '\"phare voix\"~5', '\"bougeoir doucement\"~5', '\"lustre voix\"~5', '\"lustre éblouissant\"~5', '\"torche désir\"~5', '\"électrique sentiment\"~5', '\"lumière caresse\"~5', '\"lumière entendre\"~5', '\"lumière sensation\"~5', '\"lumière heureux\"~5', '\"lumière tendresse\"~5', '\"lumière voix\"~5', '\"lumière doux\"~5', '\"lumière doucement\"~5', '\"lumière vertige\"~5', '\"lumière chagrin\"~5', '\"lumière craindre\"~5', '\"lumière agonie\"~5', '\"lumière heurt\"~5', '\"lumière sentiment\"~5', '\"lumière las\"~5', '\"tige désir\"~5', '\"ampoule heureux\"~5', '\"foyer souffrance\"~5', '\"foyer doux\"~5', '\"foyer tendresse\"~5', '\"foyer voix\"~5', '\"foyer agonie\"~5', '\"foyer doucement\"~5', '\"foyer caressant\"~5', '\"foyer heureux\"~5', '\"feu fatigant\"~5', '\"feu fiévreux\"~5', '\"feu doucement\"~5', '\"feu volupté\"~5', '\"feu sentir\"~5', '\"feu voix\"~5', '\"feu doux\"~5', '\"feu désir\"~5', '\"feu chagrin\"~5', '\"feu agonie\"~5', '\"feu sensation\"~5', '\"feu sentiment\"~5', '\"feu détresse\"~5', '\"feu heureux\"~5', '\"feu remords\"~5', '\"feu las\"~5', '\"feu souffrance\"~5']\n",
    "len (positive_results)"
   ]
  },
  {
   "cell_type": "code",
   "execution_count": null,
   "id": "763a4d92",
   "metadata": {},
   "outputs": [],
   "source": []
  }
 ],
 "metadata": {
  "kernelspec": {
   "display_name": "Python 3 (ipykernel)",
   "language": "python",
   "name": "python3"
  },
  "language_info": {
   "codemirror_mode": {
    "name": "ipython",
    "version": 3
   },
   "file_extension": ".py",
   "mimetype": "text/x-python",
   "name": "python",
   "nbconvert_exporter": "python",
   "pygments_lexer": "ipython3",
   "version": "3.12.4"
  }
 },
 "nbformat": 4,
 "nbformat_minor": 5
}
