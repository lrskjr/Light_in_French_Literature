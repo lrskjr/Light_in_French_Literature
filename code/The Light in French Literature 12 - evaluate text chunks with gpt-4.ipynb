{
 "cells": [
  {
   "cell_type": "markdown",
   "id": "703bae96-43bd-49e6-b37d-3b54c07aa116",
   "metadata": {},
   "source": [
    "# Evaluate chunks with gpt-4"
   ]
  },
  {
   "cell_type": "code",
   "execution_count": null,
   "id": "98a21715-9214-4259-9ea9-9303fc2ca109",
   "metadata": {},
   "outputs": [],
   "source": [
    "import openai\n",
    "import os\n",
    "import pandas as pd\n",
    "import tqdm"
   ]
  },
  {
   "cell_type": "markdown",
   "id": "276325ef-4022-45b1-8032-3b11d8dd28d7",
   "metadata": {},
   "source": [
    "# Preparations\n",
    "## Load text with Langchain"
   ]
  },
  {
   "cell_type": "code",
   "execution_count": null,
   "id": "04e07406-aa13-4017-bfa7-f396c28de31d",
   "metadata": {},
   "outputs": [],
   "source": [
    "# Source: https://python.langchain.com/docs/modules/data_connection/document_loaders/file_directory\n",
    "from langchain_community.document_loaders import DirectoryLoader\n",
    "from langchain_community.document_loaders import TextLoader\n",
    "\n",
    "path = r' path to \\data\\txt_files'\n",
    "\n",
    "text_loader_kwargs={'autodetect_encoding': True}\n",
    "\n",
    "loader = DirectoryLoader(path, glob=\"**/*.txt\", show_progress=True, loader_cls=TextLoader, loader_kwargs=text_loader_kwargs)\n",
    "\n",
    "documents = loader.load()\n",
    "\n",
    "doc_sources = [doc.metadata['source']  for doc in documents ]"
   ]
  },
  {
   "cell_type": "markdown",
   "id": "c142fb4b-08eb-4294-914d-9dea416b7657",
   "metadata": {},
   "source": [
    "## Chunk text with Langchain"
   ]
  },
  {
   "cell_type": "code",
   "execution_count": null,
   "id": "5ecfaab2-9bf4-4750-a5b0-6adf7a8a6a12",
   "metadata": {},
   "outputs": [],
   "source": [
    "from langchain.text_splitter import RecursiveCharacterTextSplitter\n",
    "from tqdm import tqdm\n",
    "\n",
    "# Initialize the text splitter\n",
    "splitter = RecursiveCharacterTextSplitter(\n",
    "    chunk_size=1500,\n",
    "    chunk_overlap=150,\n",
    "    separators=[\"\\n\\n\", \"\\n\", \"(?<=\\\\. )\", \" \", \"\"],\n",
    "    length_function=len\n",
    ")\n",
    "\n",
    "# Split the documents with a progress bar\n",
    "chunks = []\n",
    "for document in tqdm(documents, desc=\"Splitting documents\"):\n",
    "    chunks.extend(splitter.split_documents([document]))"
   ]
  },
  {
   "cell_type": "code",
   "execution_count": null,
   "id": "7e86c10a-a44d-4ace-a384-4997fbdb8471",
   "metadata": {},
   "outputs": [],
   "source": [
    "print (f'The numbers of chunks to be evaluated are: {len(chunks)}')"
   ]
  },
  {
   "cell_type": "markdown",
   "id": "f060c5a4-ab88-4451-898a-c38041d2cc27",
   "metadata": {},
   "source": [
    "## Build dataframe with year, author, title, and chunks from lists"
   ]
  },
  {
   "cell_type": "code",
   "execution_count": null,
   "id": "9f925647-c865-40cd-b2c0-9b49ca293ac3",
   "metadata": {},
   "outputs": [],
   "source": [
    "import pandas as pd\n",
    "source_list = []\n",
    "year_list = []\n",
    "author_list = []\n",
    "title_list = []\n",
    "text_list = []\n",
    "\n",
    "# Wrap the chunks iterable with tqdm to add a progress bar\n",
    "for i in tqdm(chunks, desc=\"Processing chunks\"):\n",
    "    # text replace\n",
    "    text = (i.page_content.replace('\\n',' ').replace('Ãˆ','È').replace('Ãª', 'ê').replace('â€™','’')\n",
    "            .replace('Å“', 'œ').replace('Ã©', 'é').replace('Ã®','î')\n",
    "            .replace('Ã‰', 'É').replace('Ã¨', 'è').replace('Ã', 'à')\n",
    "            .replace('à¢', 'â').replace('â€¦', '…').replace('à”', 'Ô')\n",
    "            .replace('à¹','ù').replace('\\xa0', '').replace('§','ç').replace('â€”', '—'))\n",
    "    \n",
    "    # Source\n",
    "    source = i.metadata['source'].split('\\\\')[-1].replace('.txt','')\n",
    "    \n",
    "    # Year\n",
    "    year = source.split()[0]\n",
    "    \n",
    "    # Author\n",
    "    author = source.split()[1]\n",
    "    \n",
    "    # Title\n",
    "    title = ' '.join(source.split()[2:])\n",
    "    \n",
    "    text_list.append(text)\n",
    "    source_list.append(source)\n",
    "    year_list.append(year)\n",
    "    author_list.append(author)\n",
    "    title_list.append(title)\n",
    "\n",
    "df_source = pd.DataFrame({'year': year_list, 'author': author_list, 'title': title_list, 'text': text_list})"
   ]
  },
  {
   "cell_type": "markdown",
   "id": "748747c7-f938-478a-970b-9e3a9242505e",
   "metadata": {},
   "source": [
    "## Read the keywords from the text file"
   ]
  },
  {
   "cell_type": "code",
   "execution_count": null,
   "id": "1c4db48b-cc9d-4644-ac61-ebf5e81f8a97",
   "metadata": {},
   "outputs": [],
   "source": [
    "\n",
    "with open(r'path to \\key_word_lists\\technology_list.txt', 'r', encoding='utf-8-sig') as file:\n",
    "    keywords = [line.strip() for line in file]\n",
    "\n",
    "# Create a function to check for keywords in a text\n",
    "# This solution ensures that only exact matches of \n",
    "# the keywords are considered, and partial matches are not counted.\n",
    "\n",
    "def contains_keyword(text):\n",
    "    for keyword in keywords:\n",
    "        if keyword in text.split():\n",
    "            return keyword\n",
    "    return 0\n",
    "\n",
    "# Apply the function to the DataFrame\n",
    "df_source['keyword'] = df_source['text'].apply(contains_keyword)\n"
   ]
  },
  {
   "cell_type": "markdown",
   "id": "8f2a6676-2af9-4d0d-b127-27bd51bf7448",
   "metadata": {},
   "source": [
    "## Subset data to chunks holding a keyword"
   ]
  },
  {
   "cell_type": "code",
   "execution_count": null,
   "id": "5e9acd64-b591-469e-acf4-2fbd0b8f05c8",
   "metadata": {},
   "outputs": [],
   "source": [
    "df_source[df_source['keyword']!=0]"
   ]
  },
  {
   "cell_type": "code",
   "execution_count": null,
   "id": "ef6a4c4c-f0df-403c-8b38-c9517e3e623b",
   "metadata": {},
   "outputs": [],
   "source": [
    "# copy the dataframe \n",
    "df = df_source.iloc[44204:, :].copy()"
   ]
  },
  {
   "cell_type": "markdown",
   "id": "55137fd3-95b5-457b-98b8-945aebc3d889",
   "metadata": {},
   "source": [
    "# Evaluate with GPT"
   ]
  },
  {
   "cell_type": "code",
   "execution_count": null,
   "id": "062437f9-5ec9-47ab-924f-238565df1035",
   "metadata": {},
   "outputs": [],
   "source": [
    "\n",
    "import openai\n",
    "from openai import OpenAI\n",
    "from tqdm import tqdm\n",
    "tqdm.pandas()\n",
    "import os\n",
    "from dotenv import load_dotenv, find_dotenv\n",
    "import random\n",
    "import time\n",
    "import pandas as pd\n",
    "import copy\n",
    "\n",
    "openai.api_key = 'your-api-key-goes-here'\n",
    "\n",
    "client = openai.OpenAI()\n",
    "\n",
    "assistant_description = \"You are an AI language model designed to analyze text for specific themes and emotions. \\\n",
    "                        Your task is to evaluate text chunks to determine if artificial lighting contributes to \\\n",
    "                        romantic or loving emotions. You should carefully analyze the provided text and identify \\\n",
    "                        instances where illumination by artificial lighting evokes feelings of love or romance between people.\"\n",
    "\n",
    "def get_completion(prompt, model=\"gpt-4o\"):\n",
    "    messages = [{\"role\": \"user\", \"content\": prompt, \"assistant_description\": assistant_description}]\n",
    "    response = client.chat.completions.create(\n",
    "        model=model,\n",
    "        messages=messages,\n",
    "        temperature=0\n",
    "    )\n",
    "    return response.choices[0].message.content\n",
    "\n",
    "#####################\n",
    "\n",
    "def chat_gpt_evaluation(text):\n",
    "    \n",
    "    prompt = f\"\"\"\n",
    "    You will be provided with a text chunk that is delimited with ''' '''.\n",
    "\n",
    "    Please take your time to carefully analyze the following text chunks and identify \n",
    "    instances where illumination by artificial lighting contributes to romantic or loving emotions between people.\n",
    "    \n",
    "    Begin your response with 'Yes.' if such instances are found, or 'No.' if they are not.\n",
    "    \n",
    "    Follow your initial response with a short argument based on the text explaining why the \n",
    "    answer is 'Yes' or 'No'. \n",
    "    \n",
    "    \n",
    "    Text: '''{text}'''\n",
    "    \"\"\"\n",
    "\n",
    "    gpt_response = get_completion(prompt)\n",
    "\n",
    "    random_number_sleep = random.randint(0, 2)\n",
    "    time.sleep(random_number_sleep)\n",
    "    print(f'Sleep for {random_number_sleep} sec.')\n",
    "\n",
    "    return gpt_response\n",
    "\n",
    "# Create a directory to save the DataFrame copies\n",
    "output_dir = r'D:\\lfl_dataframe_copies_5'\n",
    "os.makedirs(output_dir, exist_ok=True)\n",
    "\n",
    "# Iterate over each row in the DataFrame\n",
    "for index, row in df.iterrows():\n",
    "    # Check if the value in the 'keyword' column is not equal to 0\n",
    "    if row['keyword'] != 0:\n",
    "        # Apply the function to the selected column 'text' and create a new column 'gpt_evaluation'\n",
    "        df.at[index, 'gpt_evaluation'] = chat_gpt_evaluation(row['text'])\n",
    "\n",
    "        # Save a copy of the DataFrame\n",
    "        df_copy = copy.deepcopy(df)\n",
    "        df_copy.to_csv(os.path.join(output_dir, f'df_copy_{index+1}.csv'), index=False)\n",
    "\n",
    "# Print the final DataFrame\n",
    "print(\"Final DataFrame:\")\n",
    "print(df)\n"
   ]
  },
  {
   "cell_type": "markdown",
   "id": "d24f088a-8fe7-4c6b-b002-5887c0b2f9b7",
   "metadata": {},
   "source": [
    "## Store the evaluations "
   ]
  },
  {
   "cell_type": "code",
   "execution_count": null,
   "id": "56b40bab-aeef-4bb0-b803-86d79b3db887",
   "metadata": {},
   "outputs": [],
   "source": [
    "df.to_csv('gpt_evaluation_chunks_with_keywords.csv', index=False)"
   ]
  },
  {
   "cell_type": "code",
   "execution_count": null,
   "id": "2109482c-958c-43c4-8189-ecfd245d5887",
   "metadata": {},
   "outputs": [],
   "source": [
    "# read the evaulations\n",
    "import pandas as pd\n",
    "df = pd.read_csv('gpt_evaluation_chunks_with_keywords.csv')"
   ]
  },
  {
   "cell_type": "code",
   "execution_count": null,
   "id": "f880b32e-ba72-43b3-8a98-24a6398818cb",
   "metadata": {},
   "outputs": [],
   "source": [
    "df"
   ]
  },
  {
   "cell_type": "markdown",
   "id": "0db78479-8c17-440c-a494-970bfe31fea3",
   "metadata": {},
   "source": [
    "## If evaluation string starts with 'no' add 0 else if the string startswith 'yes' then add 1\n",
    "## store the evaluations again this time with 0 and 1 added"
   ]
  },
  {
   "cell_type": "code",
   "execution_count": null,
   "id": "fd1b2a62-9de2-49d9-9294-3ce9c0bc71e5",
   "metadata": {},
   "outputs": [],
   "source": [
    "def add_one_or_zero(x):\n",
    "    if str(x).startswith('No.'):\n",
    "        return 0\n",
    "    elif str(x).startswith('Yes.'):\n",
    "        return 1\n",
    "\n",
    "df['sum'] = df['gpt_evaluation'].progress_apply(lambda x: add_one_or_zero(x))\n",
    "\n",
    "\n",
    "df.to_csv('gpt_evaluatio_chunks_with_keywords_sum_added.csv', index=False)"
   ]
  },
  {
   "cell_type": "code",
   "execution_count": null,
   "id": "aec9f5f8-03eb-45ff-9d0a-343f86685dfd",
   "metadata": {},
   "outputs": [],
   "source": [
    "# Inspect df\n",
    "df"
   ]
  },
  {
   "cell_type": "code",
   "execution_count": null,
   "id": "637d5a08-dd5f-498e-b130-ffa239a7a738",
   "metadata": {},
   "outputs": [],
   "source": []
  }
 ],
 "metadata": {
  "kernelspec": {
   "display_name": "Python 3 (ipykernel)",
   "language": "python",
   "name": "python3"
  },
  "language_info": {
   "codemirror_mode": {
    "name": "ipython",
    "version": 3
   },
   "file_extension": ".py",
   "mimetype": "text/x-python",
   "name": "python",
   "nbconvert_exporter": "python",
   "pygments_lexer": "ipython3",
   "version": "3.9.21"
  }
 },
 "nbformat": 4,
 "nbformat_minor": 5
}
