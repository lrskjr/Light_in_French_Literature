{
 "cells": [
  {
   "cell_type": "code",
   "execution_count": null,
   "id": "78188b74",
   "metadata": {},
   "outputs": [],
   "source": [
    "import os\n",
    "import pandas as pd\n",
    "from pathlib import Path"
   ]
  },
  {
   "cell_type": "markdown",
   "id": "1a83b706",
   "metadata": {},
   "source": [
    "# Read the data and get it into a pandas dataframe"
   ]
  },
  {
   "cell_type": "code",
   "execution_count": null,
   "id": "cdf9f1ee",
   "metadata": {},
   "outputs": [],
   "source": [
    "# Change to the directory with the novels.\n",
    "text_folder = Path.cwd() / '../data/txt_files' # path of files to be found\n",
    "text_files = os.listdir(text_folder)\n",
    "\n",
    "texts = []\n",
    "# Loop through each file and read its contents\n",
    "for file in text_files:\n",
    "    with open(text_folder / file , 'r', encoding='utf-8-sig') as file:\n",
    "        content = file.read()\n",
    "        texts.append(content)\n",
    "        \n",
    "        \n",
    "\"\"\"File name structure is \"year author title\".\n",
    "\n",
    "This struture is used to build the dataframe some it holds both the metadata and the text content.   \"\"\"     \n",
    "\n",
    "years = [i.split()[0].strip() for i in text_files]        \n",
    "authors = [i.split()[1].strip() for i in text_files]\n",
    "titles = [' '.join(i.split()[2:]).replace('.txt', '') for i in text_files]\n",
    "\n",
    "df = pd.DataFrame({'year': years, 'author':authors, 'title': titles, 'text': texts})\n",
    "df"
   ]
  },
  {
   "cell_type": "markdown",
   "id": "47ef22df",
   "metadata": {},
   "source": [
    "## Add clean text col\n",
    "\n",
    "The text in the Clean_text column is made with the 'include numbers' function. It is with out numbers, punctuations, commas, and so on. Hyphens are still there and so are apostroph. The text is also lowered. "
   ]
  },
  {
   "cell_type": "code",
   "execution_count": null,
   "id": "66646373",
   "metadata": {},
   "outputs": [],
   "source": [
    "class clean_text():\n",
    "    def __init__(self, text):\n",
    "        self.text = text\n",
    "        \n",
    "    def remove_punctuation(self):\n",
    "        import string\n",
    "        punctuation = string.punctuation\n",
    "        wo_punctuation = ''.join(c for c in self.text if c not in punctuation)\n",
    "        import re\n",
    "        wo_additional_whitespaces = re.sub('\\s+', ' ',wo_punctuation)\n",
    "        return wo_additional_whitespaces\n",
    "    \n",
    "    def remove_punctuation_re(self):\n",
    "        import re\n",
    "        wo_punctuation = ' '.join(re.findall(r'\\b\\S+\\b', self.text))\n",
    "        wo_additional_whitespaces = re.sub('\\s+', ' ',wo_punctuation)\n",
    "        return wo_additional_whitespaces\n",
    "    \n",
    "    def includ_numbers(self):\n",
    "        import re\n",
    "        wo_punctuation = ' '.join(re.findall(r'\\b\\S+\\b', self.text))\n",
    "        wo_numbers = re.sub('\\d', ' ',wo_punctuation)\n",
    "        wo_additional_whitespaces = re.sub('\\s+', ' ',wo_numbers)\n",
    "        return wo_additional_whitespaces\n",
    "\n",
    "    \n",
    "df['clean_text'] = df['text'].apply( lambda x : clean_text(x).includ_numbers().lower() )    "
   ]
  },
  {
   "cell_type": "markdown",
   "id": "6653d3df",
   "metadata": {},
   "source": [
    "# Save to csv file"
   ]
  },
  {
   "cell_type": "code",
   "execution_count": null,
   "id": "2671df52",
   "metadata": {},
   "outputs": [],
   "source": [
    "output_dir = Path.cwd() / '../data/csv_files' # output directory\n",
    "Path.mkdir(output_dir, exist_ok=True) # Use the Path object to create the subfolder\n",
    "df.to_csv(output_dir /'text_data28_09_24.csv', sep='|', index=False)"
   ]
  }
 ],
 "metadata": {
  "kernelspec": {
   "display_name": "Python 3 (ipykernel)",
   "language": "python",
   "name": "python3"
  },
  "language_info": {
   "codemirror_mode": {
    "name": "ipython",
    "version": 3
   },
   "file_extension": ".py",
   "mimetype": "text/x-python",
   "name": "python",
   "nbconvert_exporter": "python",
   "pygments_lexer": "ipython3",
   "version": "3.12.4"
  }
 },
 "nbformat": 4,
 "nbformat_minor": 5
}
